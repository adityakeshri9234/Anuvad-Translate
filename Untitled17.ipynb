{
  "cells": [
    {
      "cell_type": "markdown",
      "metadata": {
        "id": "view-in-github",
        "colab_type": "text"
      },
      "source": [
        "<a href=\"https://colab.research.google.com/github/adityakeshri9234/Anuvad-Translate/blob/main/Untitled17.ipynb\" target=\"_parent\"><img src=\"https://colab.research.google.com/assets/colab-badge.svg\" alt=\"Open In Colab\"/></a>"
      ]
    },
    {
      "cell_type": "markdown",
      "metadata": {
        "id": "dqECGA8v88qW"
      },
      "source": [
        "!git clone https://github.com/SCLBD/DeepfakeBench.git"
      ]
    },
    {
      "cell_type": "code",
      "execution_count": 1,
      "metadata": {
        "colab": {
          "base_uri": "https://localhost:8080/"
        },
        "id": "qi-JkT8l9IRN",
        "outputId": "36c1cb76-c33e-4759-ec38-cd953bc50357"
      },
      "outputs": [
        {
          "output_type": "stream",
          "name": "stdout",
          "text": [
            "Cloning into 'DeepfakeBench'...\n",
            "remote: Enumerating objects: 812, done.\u001b[K\n",
            "remote: Counting objects: 100% (201/201), done.\u001b[K\n",
            "remote: Compressing objects: 100% (59/59), done.\u001b[K\n",
            "remote: Total 812 (delta 177), reused 147 (delta 142), pack-reused 611\u001b[K\n",
            "Receiving objects: 100% (812/812), 963.55 KiB | 5.95 MiB/s, done.\n",
            "Resolving deltas: 100% (469/469), done.\n"
          ]
        }
      ],
      "source": [
        "\n",
        "!git clone https://github.com/SCLBD/DeepfakeBench.git"
      ]
    },
    {
      "cell_type": "code",
      "execution_count": 2,
      "metadata": {
        "colab": {
          "base_uri": "https://localhost:8080/"
        },
        "id": "UYhp9Rb79FRw",
        "outputId": "079da4b3-6af5-4d00-9f5b-3916e87d68c5"
      },
      "outputs": [
        {
          "output_type": "stream",
          "name": "stdout",
          "text": [
            "--2024-05-07 13:07:44--  https://repo.anaconda.com/miniconda/Miniconda3-latest-Linux-x86_64.sh\n",
            "Resolving repo.anaconda.com (repo.anaconda.com)... 104.16.32.241, 104.16.191.158, 2606:4700::6810:bf9e, ...\n",
            "Connecting to repo.anaconda.com (repo.anaconda.com)|104.16.32.241|:443... connected.\n",
            "HTTP request sent, awaiting response... 200 OK\n",
            "Length: 143351488 (137M) [application/octet-stream]\n",
            "Saving to: ‘Miniconda3-latest-Linux-x86_64.sh’\n",
            "\n",
            "Miniconda3-latest-L 100%[===================>] 136.71M   104MB/s    in 1.3s    \n",
            "\n",
            "2024-05-07 13:07:46 (104 MB/s) - ‘Miniconda3-latest-Linux-x86_64.sh’ saved [143351488/143351488]\n",
            "\n",
            "PREFIX=/usr/local\n",
            "Unpacking payload ...\n",
            "\n",
            "Installing base environment...\n",
            "\n",
            "Preparing transaction: ...working... done\n",
            "Executing transaction: ...working... done\n",
            "installation finished.\n",
            "WARNING:\n",
            "    You currently have a PYTHONPATH environment variable set. This may cause\n",
            "    unexpected behavior when running the Python interpreter in Miniconda3.\n",
            "    For best results, please verify that your PYTHONPATH only points to\n",
            "    directories of packages that are compatible with the Python interpreter\n",
            "    in Miniconda3: /usr/local\n",
            "\n",
            "EnvironmentFileNotFound: '/content/environment.yml' file not found\n",
            "\n",
            "\n",
            "CondaError: Run 'conda init' before 'conda activate'\n",
            "\n"
          ]
        }
      ],
      "source": [
        "!wget https://repo.anaconda.com/miniconda/Miniconda3-latest-Linux-x86_64.sh\n",
        "!chmod +x Miniconda3-latest-Linux-x86_64.sh\n",
        "!bash ./Miniconda3-latest-Linux-x86_64.sh -b -f -p /usr/local\n",
        "\n",
        "import sys\n",
        "sys.path.append('/usr/local/lib/python3.7/site-packages')\n",
        "\n",
        "!conda env create -f environment.yml\n",
        "\n",
        "!conda activate deepfakebench\n"
      ]
    },
    {
      "cell_type": "code",
      "execution_count": 3,
      "metadata": {
        "colab": {
          "base_uri": "https://localhost:8080/"
        },
        "id": "k6jpKqj29kPq",
        "outputId": "3798929d-aa8a-4caf-a8f7-cb42b007fbed"
      },
      "outputs": [
        {
          "output_type": "stream",
          "name": "stdout",
          "text": [
            "no change     /usr/local/condabin/conda\n",
            "no change     /usr/local/bin/conda\n",
            "no change     /usr/local/bin/conda-env\n",
            "no change     /usr/local/bin/activate\n",
            "no change     /usr/local/bin/deactivate\n",
            "no change     /usr/local/etc/profile.d/conda.sh\n",
            "no change     /usr/local/etc/fish/conf.d/conda.fish\n",
            "no change     /usr/local/shell/condabin/Conda.psm1\n",
            "no change     /usr/local/shell/condabin/conda-hook.ps1\n",
            "no change     /usr/local/lib/python3.12/site-packages/xontrib/conda.xsh\n",
            "no change     /usr/local/etc/profile.d/conda.csh\n",
            "modified      /root/.bashrc\n",
            "\n",
            "==> For changes to take effect, close and re-open your current shell. <==\n",
            "\n",
            "\n",
            "CondaError: Run 'conda init' before 'conda activate'\n",
            "\n"
          ]
        }
      ],
      "source": [
        "!conda init\n",
        "!conda activate deepfakebench"
      ]
    },
    {
      "cell_type": "code",
      "execution_count": 4,
      "metadata": {
        "colab": {
          "base_uri": "https://localhost:8080/"
        },
        "id": "uJDDkpOa90We",
        "outputId": "fb9aec95-dc4a-4ce6-8f10-cb75683fdd03"
      },
      "outputs": [
        {
          "output_type": "stream",
          "name": "stdout",
          "text": [
            "Mounted at /content/drive\n"
          ]
        }
      ],
      "source": [
        "from google.colab import drive\n",
        "drive.mount('/content/drive')\n"
      ]
    },
    {
      "cell_type": "code",
      "execution_count": 5,
      "metadata": {
        "colab": {
          "base_uri": "https://localhost:8080/",
          "height": 36
        },
        "id": "NFR_vTQsZeN5",
        "outputId": "a1c66bee-d66b-4843-af45-bda581a6ff46"
      },
      "outputs": [
        {
          "output_type": "execute_result",
          "data": {
            "text/plain": [
              "'/content'"
            ],
            "application/vnd.google.colaboratory.intrinsic+json": {
              "type": "string"
            }
          },
          "metadata": {},
          "execution_count": 5
        }
      ],
      "source": [
        "pwd\n"
      ]
    },
    {
      "cell_type": "code",
      "execution_count": 7,
      "metadata": {
        "colab": {
          "base_uri": "https://localhost:8080/"
        },
        "id": "drzhch8__2Sz",
        "outputId": "8c87e874-2114-444c-9497-4ecae4b8b765"
      },
      "outputs": [
        {
          "output_type": "stream",
          "name": "stdout",
          "text": [
            "/content/DeepfakeBench\n"
          ]
        }
      ],
      "source": [
        "%cd DeepfakeBench\n",
        "\n"
      ]
    },
    {
      "cell_type": "code",
      "execution_count": null,
      "metadata": {
        "colab": {
          "base_uri": "https://localhost:8080/"
        },
        "id": "yZk51zljZ6uO",
        "outputId": "f44d866d-20cb-48a4-99b3-5c7ddce5dd45"
      },
      "outputs": [
        {
          "name": "stdout",
          "output_type": "stream",
          "text": [
            "/content/DeepfakeBench\n"
          ]
        }
      ],
      "source": [
        "cd ..\n"
      ]
    },
    {
      "cell_type": "code",
      "execution_count": 9,
      "metadata": {
        "colab": {
          "base_uri": "https://localhost:8080/"
        },
        "id": "6BCQEVslZxu7",
        "outputId": "4b983846-4863-4a57-81b8-7a5d75d3d73b"
      },
      "outputs": [
        {
          "output_type": "stream",
          "name": "stdout",
          "text": [
            "\u001b[31mERROR: Ignored the following versions that require a different python version: 1.21.2 Requires-Python >=3.7,<3.11; 1.21.3 Requires-Python >=3.7,<3.11; 1.21.4 Requires-Python >=3.7,<3.11; 1.21.5 Requires-Python >=3.7,<3.11; 1.21.6 Requires-Python >=3.7,<3.11\u001b[0m\u001b[31m\n",
            "\u001b[0m\u001b[31mERROR: Could not find a version that satisfies the requirement numpy==1.21.5 (from versions: 1.3.0, 1.4.1, 1.5.0, 1.5.1, 1.6.0, 1.6.1, 1.6.2, 1.7.0, 1.7.1, 1.7.2, 1.8.0, 1.8.1, 1.8.2, 1.9.0, 1.9.1, 1.9.2, 1.9.3, 1.10.0.post2, 1.10.1, 1.10.2, 1.10.4, 1.11.0, 1.11.1, 1.11.2, 1.11.3, 1.12.0, 1.12.1, 1.13.0, 1.13.1, 1.13.3, 1.14.0, 1.14.1, 1.14.2, 1.14.3, 1.14.4, 1.14.5, 1.14.6, 1.15.0, 1.15.1, 1.15.2, 1.15.3, 1.15.4, 1.16.0, 1.16.1, 1.16.2, 1.16.3, 1.16.4, 1.16.5, 1.16.6, 1.17.0, 1.17.1, 1.17.2, 1.17.3, 1.17.4, 1.17.5, 1.18.0, 1.18.1, 1.18.2, 1.18.3, 1.18.4, 1.18.5, 1.19.0, 1.19.1, 1.19.2, 1.19.3, 1.19.4, 1.19.5, 1.20.0, 1.20.1, 1.20.2, 1.20.3, 1.21.0, 1.21.1, 1.22.0, 1.22.1, 1.22.2, 1.22.3, 1.22.4, 1.23.0rc1, 1.23.0rc2, 1.23.0rc3, 1.23.0, 1.23.1, 1.23.2, 1.23.3, 1.23.4, 1.23.5, 1.24.0rc1, 1.24.0rc2, 1.24.0, 1.24.1, 1.24.2, 1.24.3, 1.24.4, 1.25.0rc1, 1.25.0, 1.25.1, 1.25.2, 1.26.0b1, 1.26.0rc1, 1.26.0, 1.26.1, 1.26.2, 1.26.3, 1.26.4, 2.0.0b1, 2.0.0rc1)\u001b[0m\u001b[31m\n",
            "\u001b[0m\u001b[31mERROR: No matching distribution found for numpy==1.21.5\u001b[0m\u001b[31m\n",
            "\u001b[0mRequirement already satisfied: pandas==1.4.2 in /usr/local/lib/python3.12/site-packages (1.4.2)\n",
            "Requirement already satisfied: python-dateutil>=2.8.1 in /usr/local/lib/python3.12/site-packages (from pandas==1.4.2) (2.9.0.post0)\n",
            "Requirement already satisfied: pytz>=2020.1 in /usr/local/lib/python3.12/site-packages (from pandas==1.4.2) (2024.1)\n",
            "Requirement already satisfied: numpy>=1.21.0 in /usr/local/lib/python3.12/site-packages (from pandas==1.4.2) (1.26.4)\n",
            "Requirement already satisfied: six>=1.5 in /usr/local/lib/python3.12/site-packages (from python-dateutil>=2.8.1->pandas==1.4.2) (1.16.0)\n",
            "\u001b[33mWARNING: Running pip as the 'root' user can result in broken permissions and conflicting behaviour with the system package manager. It is recommended to use a virtual environment instead: https://pip.pypa.io/warnings/venv\u001b[0m\u001b[33m\n",
            "\u001b[0mCollecting Pillow==9.0.1\n",
            "  Using cached Pillow-9.0.1-cp312-cp312-linux_x86_64.whl\n",
            "Installing collected packages: Pillow\n",
            "  Attempting uninstall: Pillow\n",
            "    Found existing installation: pillow 10.3.0\n",
            "    Uninstalling pillow-10.3.0:\n",
            "      Successfully uninstalled pillow-10.3.0\n",
            "\u001b[31mERROR: pip's dependency resolver does not currently take into account all the packages that are installed. This behaviour is the source of the following dependency conflicts.\n",
            "scikit-image 0.23.2 requires pillow>=9.1, but you have pillow 9.0.1 which is incompatible.\u001b[0m\u001b[31m\n",
            "\u001b[0mSuccessfully installed Pillow-9.0.1\n",
            "\u001b[33mWARNING: Running pip as the 'root' user can result in broken permissions and conflicting behaviour with the system package manager. It is recommended to use a virtual environment instead: https://pip.pypa.io/warnings/venv\u001b[0m\u001b[33m\n",
            "\u001b[0mCollecting dlib==19.24.0\n",
            "  Using cached dlib-19.24.0.tar.gz (3.2 MB)\n",
            "  \u001b[1;31merror\u001b[0m: \u001b[1msubprocess-exited-with-error\u001b[0m\n",
            "  \n",
            "  \u001b[31m×\u001b[0m \u001b[32mpython setup.py egg_info\u001b[0m did not run successfully.\n",
            "  \u001b[31m│\u001b[0m exit code: \u001b[1;36m1\u001b[0m\n",
            "  \u001b[31m╰─>\u001b[0m See above for output.\n",
            "  \n",
            "  \u001b[1;35mnote\u001b[0m: This error originates from a subprocess, and is likely not a problem with pip.\n",
            "  Preparing metadata (setup.py) ... \u001b[?25l\u001b[?25herror\n",
            "\u001b[1;31merror\u001b[0m: \u001b[1mmetadata-generation-failed\u001b[0m\n",
            "\n",
            "\u001b[31m×\u001b[0m Encountered error while generating package metadata.\n",
            "\u001b[31m╰─>\u001b[0m See above for output.\n",
            "\n",
            "\u001b[1;35mnote\u001b[0m: This is an issue with the package mentioned above, not pip.\n",
            "\u001b[1;36mhint\u001b[0m: See above for details.\n",
            "Collecting imageio==2.9.0\n",
            "  Using cached imageio-2.9.0-py3-none-any.whl.metadata (2.6 kB)\n",
            "Requirement already satisfied: numpy in /usr/local/lib/python3.12/site-packages (from imageio==2.9.0) (1.26.4)\n",
            "Requirement already satisfied: pillow in /usr/local/lib/python3.12/site-packages (from imageio==2.9.0) (9.0.1)\n",
            "Using cached imageio-2.9.0-py3-none-any.whl (3.3 MB)\n",
            "Installing collected packages: imageio\n",
            "  Attempting uninstall: imageio\n",
            "    Found existing installation: imageio 2.34.1\n",
            "    Uninstalling imageio-2.34.1:\n",
            "      Successfully uninstalled imageio-2.34.1\n",
            "\u001b[31mERROR: pip's dependency resolver does not currently take into account all the packages that are installed. This behaviour is the source of the following dependency conflicts.\n",
            "scikit-image 0.23.2 requires imageio>=2.33, but you have imageio 2.9.0 which is incompatible.\n",
            "scikit-image 0.23.2 requires pillow>=9.1, but you have pillow 9.0.1 which is incompatible.\u001b[0m\u001b[31m\n",
            "\u001b[0mSuccessfully installed imageio-2.9.0\n",
            "\u001b[33mWARNING: Running pip as the 'root' user can result in broken permissions and conflicting behaviour with the system package manager. It is recommended to use a virtual environment instead: https://pip.pypa.io/warnings/venv\u001b[0m\u001b[33m\n",
            "\u001b[0mRequirement already satisfied: imgaug==0.4.0 in /usr/local/lib/python3.12/site-packages (0.4.0)\n",
            "Requirement already satisfied: six in /usr/local/lib/python3.12/site-packages (from imgaug==0.4.0) (1.16.0)\n",
            "Requirement already satisfied: numpy>=1.15 in /usr/local/lib/python3.12/site-packages (from imgaug==0.4.0) (1.26.4)\n",
            "Requirement already satisfied: scipy in /usr/local/lib/python3.12/site-packages (from imgaug==0.4.0) (1.13.0)\n",
            "Requirement already satisfied: Pillow in /usr/local/lib/python3.12/site-packages (from imgaug==0.4.0) (9.0.1)\n",
            "Requirement already satisfied: matplotlib in /usr/local/lib/python3.12/site-packages (from imgaug==0.4.0) (3.8.4)\n",
            "Requirement already satisfied: scikit-image>=0.14.2 in /usr/local/lib/python3.12/site-packages (from imgaug==0.4.0) (0.23.2)\n",
            "Requirement already satisfied: opencv-python in /usr/local/lib/python3.12/site-packages (from imgaug==0.4.0) (4.6.0.66)\n",
            "Requirement already satisfied: imageio in /usr/local/lib/python3.12/site-packages (from imgaug==0.4.0) (2.9.0)\n",
            "Requirement already satisfied: Shapely in /usr/local/lib/python3.12/site-packages (from imgaug==0.4.0) (2.0.4)\n",
            "Requirement already satisfied: networkx>=2.8 in /usr/local/lib/python3.12/site-packages (from scikit-image>=0.14.2->imgaug==0.4.0) (3.3)\n",
            "Collecting Pillow (from imgaug==0.4.0)\n",
            "  Using cached pillow-10.3.0-cp312-cp312-manylinux_2_28_x86_64.whl.metadata (9.2 kB)\n",
            "Collecting imageio (from imgaug==0.4.0)\n",
            "  Using cached imageio-2.34.1-py3-none-any.whl.metadata (4.9 kB)\n",
            "Requirement already satisfied: tifffile>=2022.8.12 in /usr/local/lib/python3.12/site-packages (from scikit-image>=0.14.2->imgaug==0.4.0) (2024.5.3)\n",
            "Requirement already satisfied: packaging>=21 in /usr/local/lib/python3.12/site-packages (from scikit-image>=0.14.2->imgaug==0.4.0) (23.2)\n",
            "Requirement already satisfied: lazy-loader>=0.4 in /usr/local/lib/python3.12/site-packages (from scikit-image>=0.14.2->imgaug==0.4.0) (0.4)\n",
            "Requirement already satisfied: contourpy>=1.0.1 in /usr/local/lib/python3.12/site-packages (from matplotlib->imgaug==0.4.0) (1.2.1)\n",
            "Requirement already satisfied: cycler>=0.10 in /usr/local/lib/python3.12/site-packages (from matplotlib->imgaug==0.4.0) (0.12.1)\n",
            "Requirement already satisfied: fonttools>=4.22.0 in /usr/local/lib/python3.12/site-packages (from matplotlib->imgaug==0.4.0) (4.51.0)\n",
            "Requirement already satisfied: kiwisolver>=1.3.1 in /usr/local/lib/python3.12/site-packages (from matplotlib->imgaug==0.4.0) (1.4.5)\n",
            "Requirement already satisfied: pyparsing>=2.3.1 in /usr/local/lib/python3.12/site-packages (from matplotlib->imgaug==0.4.0) (3.1.2)\n",
            "Requirement already satisfied: python-dateutil>=2.7 in /usr/local/lib/python3.12/site-packages (from matplotlib->imgaug==0.4.0) (2.9.0.post0)\n",
            "Using cached imageio-2.34.1-py3-none-any.whl (313 kB)\n",
            "Using cached pillow-10.3.0-cp312-cp312-manylinux_2_28_x86_64.whl (4.5 MB)\n",
            "Installing collected packages: Pillow, imageio\n",
            "  Attempting uninstall: Pillow\n",
            "    Found existing installation: Pillow 9.0.1\n",
            "    Uninstalling Pillow-9.0.1:\n",
            "      Successfully uninstalled Pillow-9.0.1\n",
            "  Attempting uninstall: imageio\n",
            "    Found existing installation: imageio 2.9.0\n",
            "    Uninstalling imageio-2.9.0:\n",
            "      Successfully uninstalled imageio-2.9.0\n",
            "Successfully installed Pillow-10.3.0 imageio-2.34.1\n",
            "\u001b[33mWARNING: Running pip as the 'root' user can result in broken permissions and conflicting behaviour with the system package manager. It is recommended to use a virtual environment instead: https://pip.pypa.io/warnings/venv\u001b[0m\u001b[33m\n",
            "\u001b[0mRequirement already satisfied: tqdm==4.61.0 in /usr/local/lib/python3.12/site-packages (4.61.0)\n",
            "\u001b[33mWARNING: Running pip as the 'root' user can result in broken permissions and conflicting behaviour with the system package manager. It is recommended to use a virtual environment instead: https://pip.pypa.io/warnings/venv\u001b[0m\u001b[33m\n",
            "\u001b[0m\u001b[31mERROR: Ignored the following yanked versions: 1.11.0\u001b[0m\u001b[31m\n",
            "\u001b[0m\u001b[31mERROR: Ignored the following versions that require a different python version: 1.10.0 Requires-Python <3.12,>=3.8; 1.10.0rc1 Requires-Python <3.12,>=3.8; 1.10.0rc2 Requires-Python <3.12,>=3.8; 1.10.1 Requires-Python <3.12,>=3.8; 1.6.2 Requires-Python >=3.7,<3.10; 1.6.3 Requires-Python >=3.7,<3.10; 1.7.0 Requires-Python >=3.7,<3.10; 1.7.1 Requires-Python >=3.7,<3.10; 1.7.2 Requires-Python >=3.7,<3.11; 1.7.3 Requires-Python >=3.7,<3.11; 1.8.0 Requires-Python >=3.8,<3.11; 1.8.0rc1 Requires-Python >=3.8,<3.11; 1.8.0rc2 Requires-Python >=3.8,<3.11; 1.8.0rc3 Requires-Python >=3.8,<3.11; 1.8.0rc4 Requires-Python >=3.8,<3.11; 1.8.1 Requires-Python >=3.8,<3.11; 1.9.0 Requires-Python >=3.8,<3.12; 1.9.0rc1 Requires-Python >=3.8,<3.12; 1.9.0rc2 Requires-Python >=3.8,<3.12; 1.9.0rc3 Requires-Python >=3.8,<3.12; 1.9.1 Requires-Python >=3.8,<3.12\u001b[0m\u001b[31m\n",
            "\u001b[0m\u001b[31mERROR: Could not find a version that satisfies the requirement scipy==1.7.3 (from versions: 0.8.0, 0.9.0, 0.10.0, 0.10.1, 0.11.0, 0.12.0, 0.12.1, 0.13.0, 0.13.1, 0.13.2, 0.13.3, 0.14.0, 0.14.1, 0.15.0, 0.15.1, 0.16.0, 0.16.1, 0.17.0, 0.17.1, 0.18.0, 0.18.1, 0.19.0, 0.19.1, 1.0.0, 1.0.1, 1.1.0, 1.2.0, 1.2.1, 1.2.2, 1.2.3, 1.3.0, 1.3.1, 1.3.2, 1.3.3, 1.4.0, 1.4.1, 1.5.0, 1.5.1, 1.5.2, 1.5.3, 1.5.4, 1.6.0, 1.6.1, 1.9.2, 1.9.3, 1.11.0rc1, 1.11.0rc2, 1.11.1, 1.11.2, 1.11.3, 1.11.4, 1.12.0rc1, 1.12.0rc2, 1.12.0, 1.13.0rc1, 1.13.0)\u001b[0m\u001b[31m\n",
            "\u001b[0m\u001b[31mERROR: No matching distribution found for scipy==1.7.3\u001b[0m\u001b[31m\n",
            "\u001b[0mRequirement already satisfied: seaborn==0.11.2 in /usr/local/lib/python3.12/site-packages (0.11.2)\n",
            "Requirement already satisfied: numpy>=1.15 in /usr/local/lib/python3.12/site-packages (from seaborn==0.11.2) (1.26.4)\n",
            "Requirement already satisfied: scipy>=1.0 in /usr/local/lib/python3.12/site-packages (from seaborn==0.11.2) (1.13.0)\n",
            "Requirement already satisfied: pandas>=0.23 in /usr/local/lib/python3.12/site-packages (from seaborn==0.11.2) (1.4.2)\n",
            "Requirement already satisfied: matplotlib>=2.2 in /usr/local/lib/python3.12/site-packages (from seaborn==0.11.2) (3.8.4)\n",
            "Requirement already satisfied: contourpy>=1.0.1 in /usr/local/lib/python3.12/site-packages (from matplotlib>=2.2->seaborn==0.11.2) (1.2.1)\n",
            "Requirement already satisfied: cycler>=0.10 in /usr/local/lib/python3.12/site-packages (from matplotlib>=2.2->seaborn==0.11.2) (0.12.1)\n",
            "Requirement already satisfied: fonttools>=4.22.0 in /usr/local/lib/python3.12/site-packages (from matplotlib>=2.2->seaborn==0.11.2) (4.51.0)\n",
            "Requirement already satisfied: kiwisolver>=1.3.1 in /usr/local/lib/python3.12/site-packages (from matplotlib>=2.2->seaborn==0.11.2) (1.4.5)\n",
            "Requirement already satisfied: packaging>=20.0 in /usr/local/lib/python3.12/site-packages (from matplotlib>=2.2->seaborn==0.11.2) (23.2)\n",
            "Requirement already satisfied: pillow>=8 in /usr/local/lib/python3.12/site-packages (from matplotlib>=2.2->seaborn==0.11.2) (10.3.0)\n",
            "Requirement already satisfied: pyparsing>=2.3.1 in /usr/local/lib/python3.12/site-packages (from matplotlib>=2.2->seaborn==0.11.2) (3.1.2)\n",
            "Requirement already satisfied: python-dateutil>=2.7 in /usr/local/lib/python3.12/site-packages (from matplotlib>=2.2->seaborn==0.11.2) (2.9.0.post0)\n",
            "Requirement already satisfied: pytz>=2020.1 in /usr/local/lib/python3.12/site-packages (from pandas>=0.23->seaborn==0.11.2) (2024.1)\n",
            "Requirement already satisfied: six>=1.5 in /usr/local/lib/python3.12/site-packages (from python-dateutil>=2.7->matplotlib>=2.2->seaborn==0.11.2) (1.16.0)\n",
            "\u001b[33mWARNING: Running pip as the 'root' user can result in broken permissions and conflicting behaviour with the system package manager. It is recommended to use a virtual environment instead: https://pip.pypa.io/warnings/venv\u001b[0m\u001b[33m\n",
            "\u001b[0mCollecting pyyaml==6.0\n",
            "  Using cached PyYAML-6.0.tar.gz (124 kB)\n",
            "  Installing build dependencies ... \u001b[?25l\u001b[?25hdone\n",
            "  \u001b[1;31merror\u001b[0m: \u001b[1msubprocess-exited-with-error\u001b[0m\n",
            "  \n",
            "  \u001b[31m×\u001b[0m \u001b[32mGetting requirements to build wheel\u001b[0m did not run successfully.\n",
            "  \u001b[31m│\u001b[0m exit code: \u001b[1;36m1\u001b[0m\n",
            "  \u001b[31m╰─>\u001b[0m See above for output.\n",
            "  \n",
            "  \u001b[1;35mnote\u001b[0m: This error originates from a subprocess, and is likely not a problem with pip.\n",
            "  Getting requirements to build wheel ... \u001b[?25l\u001b[?25herror\n",
            "\u001b[1;31merror\u001b[0m: \u001b[1msubprocess-exited-with-error\u001b[0m\n",
            "\n",
            "\u001b[31m×\u001b[0m \u001b[32mGetting requirements to build wheel\u001b[0m did not run successfully.\n",
            "\u001b[31m│\u001b[0m exit code: \u001b[1;36m1\u001b[0m\n",
            "\u001b[31m╰─>\u001b[0m See above for output.\n",
            "\n",
            "\u001b[1;35mnote\u001b[0m: This error originates from a subprocess, and is likely not a problem with pip.\n",
            "Requirement already satisfied: imutils==0.5.4 in /usr/local/lib/python3.12/site-packages (0.5.4)\n",
            "\u001b[33mWARNING: Running pip as the 'root' user can result in broken permissions and conflicting behaviour with the system package manager. It is recommended to use a virtual environment instead: https://pip.pypa.io/warnings/venv\u001b[0m\u001b[33m\n",
            "\u001b[0mRequirement already satisfied: opencv-python==4.6.0.66 in /usr/local/lib/python3.12/site-packages (4.6.0.66)\n",
            "Requirement already satisfied: numpy>=1.21.2 in /usr/local/lib/python3.12/site-packages (from opencv-python==4.6.0.66) (1.26.4)\n",
            "\u001b[33mWARNING: Running pip as the 'root' user can result in broken permissions and conflicting behaviour with the system package manager. It is recommended to use a virtual environment instead: https://pip.pypa.io/warnings/venv\u001b[0m\u001b[33m\n",
            "\u001b[0mCollecting scikit-image==0.19.2\n",
            "  Using cached scikit-image-0.19.2.tar.gz (22.2 MB)\n",
            "  Installing build dependencies ... \u001b[?25l\u001b[?25hdone\n",
            "  Getting requirements to build wheel ... \u001b[?25l\u001b[?25hdone\n",
            "\u001b[31mERROR: Exception:\n",
            "Traceback (most recent call last):\n",
            "  File \"/usr/local/lib/python3.12/site-packages/pip/_internal/cli/base_command.py\", line 180, in exc_logging_wrapper\n",
            "    status = run_func(*args)\n",
            "             ^^^^^^^^^^^^^^^\n",
            "  File \"/usr/local/lib/python3.12/site-packages/pip/_internal/cli/req_command.py\", line 245, in wrapper\n",
            "    return func(self, options, args)\n",
            "           ^^^^^^^^^^^^^^^^^^^^^^^^^\n",
            "  File \"/usr/local/lib/python3.12/site-packages/pip/_internal/commands/install.py\", line 377, in run\n",
            "    requirement_set = resolver.resolve(\n",
            "                      ^^^^^^^^^^^^^^^^^\n",
            "  File \"/usr/local/lib/python3.12/site-packages/pip/_internal/resolution/resolvelib/resolver.py\", line 95, in resolve\n",
            "    result = self._result = resolver.resolve(\n",
            "                            ^^^^^^^^^^^^^^^^^\n",
            "  File \"/usr/local/lib/python3.12/site-packages/pip/_vendor/resolvelib/resolvers.py\", line 546, in resolve\n",
            "    state = resolution.resolve(requirements, max_rounds=max_rounds)\n",
            "            ^^^^^^^^^^^^^^^^^^^^^^^^^^^^^^^^^^^^^^^^^^^^^^^^^^^^^^^\n",
            "  File \"/usr/local/lib/python3.12/site-packages/pip/_vendor/resolvelib/resolvers.py\", line 397, in resolve\n",
            "    self._add_to_criteria(self.state.criteria, r, parent=None)\n",
            "  File \"/usr/local/lib/python3.12/site-packages/pip/_vendor/resolvelib/resolvers.py\", line 173, in _add_to_criteria\n",
            "    if not criterion.candidates:\n",
            "           ^^^^^^^^^^^^^^^^^^^^\n",
            "  File \"/usr/local/lib/python3.12/site-packages/pip/_vendor/resolvelib/structs.py\", line 156, in __bool__\n",
            "    return bool(self._sequence)\n",
            "           ^^^^^^^^^^^^^^^^^^^^\n",
            "  File \"/usr/local/lib/python3.12/site-packages/pip/_internal/resolution/resolvelib/found_candidates.py\", line 155, in __bool__\n",
            "    return any(self)\n",
            "           ^^^^^^^^^\n",
            "  File \"/usr/local/lib/python3.12/site-packages/pip/_internal/resolution/resolvelib/found_candidates.py\", line 143, in <genexpr>\n",
            "    return (c for c in iterator if id(c) not in self._incompatible_ids)\n",
            "           ^^^^^^^^^^^^^^^^^^^^^^^^^^^^^^^^^^^^^^^^^^^^^^^^^^^^^^^^^^^^\n",
            "  File \"/usr/local/lib/python3.12/site-packages/pip/_internal/resolution/resolvelib/found_candidates.py\", line 47, in _iter_built\n",
            "    candidate = func()\n",
            "                ^^^^^^\n",
            "  File \"/usr/local/lib/python3.12/site-packages/pip/_internal/resolution/resolvelib/factory.py\", line 211, in _make_candidate_from_link\n",
            "    self._link_candidate_cache[link] = LinkCandidate(\n",
            "                                       ^^^^^^^^^^^^^^\n",
            "  File \"/usr/local/lib/python3.12/site-packages/pip/_internal/resolution/resolvelib/candidates.py\", line 293, in __init__\n",
            "    super().__init__(\n",
            "  File \"/usr/local/lib/python3.12/site-packages/pip/_internal/resolution/resolvelib/candidates.py\", line 156, in __init__\n",
            "    self.dist = self._prepare()\n",
            "                ^^^^^^^^^^^^^^^\n",
            "  File \"/usr/local/lib/python3.12/site-packages/pip/_internal/resolution/resolvelib/candidates.py\", line 225, in _prepare\n",
            "    dist = self._prepare_distribution()\n",
            "           ^^^^^^^^^^^^^^^^^^^^^^^^^^^^\n",
            "  File \"/usr/local/lib/python3.12/site-packages/pip/_internal/resolution/resolvelib/candidates.py\", line 304, in _prepare_distribution\n",
            "    return preparer.prepare_linked_requirement(self._ireq, parallel_builds=True)\n",
            "           ^^^^^^^^^^^^^^^^^^^^^^^^^^^^^^^^^^^^^^^^^^^^^^^^^^^^^^^^^^^^^^^^^^^^^\n",
            "  File \"/usr/local/lib/python3.12/site-packages/pip/_internal/operations/prepare.py\", line 525, in prepare_linked_requirement\n",
            "    return self._prepare_linked_requirement(req, parallel_builds)\n",
            "           ^^^^^^^^^^^^^^^^^^^^^^^^^^^^^^^^^^^^^^^^^^^^^^^^^^^^^^\n",
            "  File \"/usr/local/lib/python3.12/site-packages/pip/_internal/operations/prepare.py\", line 640, in _prepare_linked_requirement\n",
            "    dist = _get_prepared_distribution(\n",
            "           ^^^^^^^^^^^^^^^^^^^^^^^^^^^\n",
            "  File \"/usr/local/lib/python3.12/site-packages/pip/_internal/operations/prepare.py\", line 71, in _get_prepared_distribution\n",
            "    abstract_dist.prepare_distribution_metadata(\n",
            "  File \"/usr/local/lib/python3.12/site-packages/pip/_internal/distributions/sdist.py\", line 54, in prepare_distribution_metadata\n",
            "    self._install_build_reqs(finder)\n",
            "  File \"/usr/local/lib/python3.12/site-packages/pip/_internal/distributions/sdist.py\", line 124, in _install_build_reqs\n",
            "    build_reqs = self._get_build_requires_wheel()\n",
            "                 ^^^^^^^^^^^^^^^^^^^^^^^^^^^^^^^^\n",
            "  File \"/usr/local/lib/python3.12/site-packages/pip/_internal/distributions/sdist.py\", line 101, in _get_build_requires_wheel\n",
            "    return backend.get_requires_for_build_wheel()\n",
            "           ^^^^^^^^^^^^^^^^^^^^^^^^^^^^^^^^^^^^^^\n",
            "  File \"/usr/local/lib/python3.12/site-packages/pip/_internal/utils/misc.py\", line 751, in get_requires_for_build_wheel\n",
            "    return super().get_requires_for_build_wheel(config_settings=cs)\n",
            "           ^^^^^^^^^^^^^^^^^^^^^^^^^^^^^^^^^^^^^^^^^^^^^^^^^^^^^^^^\n",
            "  File \"/usr/local/lib/python3.12/site-packages/pip/_vendor/pyproject_hooks/_impl.py\", line 166, in get_requires_for_build_wheel\n",
            "    return self._call_hook('get_requires_for_build_wheel', {\n",
            "           ^^^^^^^^^^^^^^^^^^^^^^^^^^^^^^^^^^^^^^^^^^^^^^^^^\n",
            "  File \"/usr/local/lib/python3.12/site-packages/pip/_vendor/pyproject_hooks/_impl.py\", line 321, in _call_hook\n",
            "    raise BackendUnavailable(data.get('traceback', ''))\n",
            "pip._vendor.pyproject_hooks._impl.BackendUnavailable: Traceback (most recent call last):\n",
            "  File \"/usr/local/lib/python3.12/site-packages/pip/_vendor/pyproject_hooks/_in_process/_in_process.py\", line 77, in _build_backend\n",
            "    obj = import_module(mod_path)\n",
            "          ^^^^^^^^^^^^^^^^^^^^^^^\n",
            "  File \"/usr/local/lib/python3.12/importlib/__init__.py\", line 90, in import_module\n",
            "    return _bootstrap._gcd_import(name[level:], package, level)\n",
            "           ^^^^^^^^^^^^^^^^^^^^^^^^^^^^^^^^^^^^^^^^^^^^^^^^^^^^\n",
            "  File \"<frozen importlib._bootstrap>\", line 1387, in _gcd_import\n",
            "  File \"<frozen importlib._bootstrap>\", line 1360, in _find_and_load\n",
            "  File \"<frozen importlib._bootstrap>\", line 1310, in _find_and_load_unlocked\n",
            "  File \"<frozen importlib._bootstrap>\", line 488, in _call_with_frames_removed\n",
            "  File \"<frozen importlib._bootstrap>\", line 1387, in _gcd_import\n",
            "  File \"<frozen importlib._bootstrap>\", line 1360, in _find_and_load\n",
            "  File \"<frozen importlib._bootstrap>\", line 1331, in _find_and_load_unlocked\n",
            "  File \"<frozen importlib._bootstrap>\", line 935, in _load_unlocked\n",
            "  File \"<frozen importlib._bootstrap_external>\", line 995, in exec_module\n",
            "  File \"<frozen importlib._bootstrap>\", line 488, in _call_with_frames_removed\n",
            "  File \"/tmp/pip-build-env-zy6_1y0r/overlay/lib/python3.12/site-packages/setuptools/__init__.py\", line 10, in <module>\n",
            "    import distutils.core\n",
            "ModuleNotFoundError: No module named 'distutils'\n",
            "\u001b[0m\u001b[31m\n",
            "\u001b[0mCollecting scikit-learn==1.0.2\n",
            "  Using cached scikit-learn-1.0.2.tar.gz (6.7 MB)\n",
            "  Installing build dependencies ... \u001b[?25l\u001b[?25hdone\n",
            "  Getting requirements to build wheel ... \u001b[?25l\u001b[?25hdone\n",
            "\u001b[31mERROR: Exception:\n",
            "Traceback (most recent call last):\n",
            "  File \"/usr/local/lib/python3.12/site-packages/pip/_internal/cli/base_command.py\", line 180, in exc_logging_wrapper\n",
            "    status = run_func(*args)\n",
            "             ^^^^^^^^^^^^^^^\n",
            "  File \"/usr/local/lib/python3.12/site-packages/pip/_internal/cli/req_command.py\", line 245, in wrapper\n",
            "    return func(self, options, args)\n",
            "           ^^^^^^^^^^^^^^^^^^^^^^^^^\n",
            "  File \"/usr/local/lib/python3.12/site-packages/pip/_internal/commands/install.py\", line 377, in run\n",
            "    requirement_set = resolver.resolve(\n",
            "                      ^^^^^^^^^^^^^^^^^\n",
            "  File \"/usr/local/lib/python3.12/site-packages/pip/_internal/resolution/resolvelib/resolver.py\", line 95, in resolve\n",
            "    result = self._result = resolver.resolve(\n",
            "                            ^^^^^^^^^^^^^^^^^\n",
            "  File \"/usr/local/lib/python3.12/site-packages/pip/_vendor/resolvelib/resolvers.py\", line 546, in resolve\n",
            "    state = resolution.resolve(requirements, max_rounds=max_rounds)\n",
            "            ^^^^^^^^^^^^^^^^^^^^^^^^^^^^^^^^^^^^^^^^^^^^^^^^^^^^^^^\n",
            "  File \"/usr/local/lib/python3.12/site-packages/pip/_vendor/resolvelib/resolvers.py\", line 397, in resolve\n",
            "    self._add_to_criteria(self.state.criteria, r, parent=None)\n",
            "  File \"/usr/local/lib/python3.12/site-packages/pip/_vendor/resolvelib/resolvers.py\", line 173, in _add_to_criteria\n",
            "    if not criterion.candidates:\n",
            "           ^^^^^^^^^^^^^^^^^^^^\n",
            "  File \"/usr/local/lib/python3.12/site-packages/pip/_vendor/resolvelib/structs.py\", line 156, in __bool__\n",
            "    return bool(self._sequence)\n",
            "           ^^^^^^^^^^^^^^^^^^^^\n",
            "  File \"/usr/local/lib/python3.12/site-packages/pip/_internal/resolution/resolvelib/found_candidates.py\", line 155, in __bool__\n",
            "    return any(self)\n",
            "           ^^^^^^^^^\n",
            "  File \"/usr/local/lib/python3.12/site-packages/pip/_internal/resolution/resolvelib/found_candidates.py\", line 143, in <genexpr>\n",
            "    return (c for c in iterator if id(c) not in self._incompatible_ids)\n",
            "           ^^^^^^^^^^^^^^^^^^^^^^^^^^^^^^^^^^^^^^^^^^^^^^^^^^^^^^^^^^^^\n",
            "  File \"/usr/local/lib/python3.12/site-packages/pip/_internal/resolution/resolvelib/found_candidates.py\", line 47, in _iter_built\n",
            "    candidate = func()\n",
            "                ^^^^^^\n",
            "  File \"/usr/local/lib/python3.12/site-packages/pip/_internal/resolution/resolvelib/factory.py\", line 211, in _make_candidate_from_link\n",
            "    self._link_candidate_cache[link] = LinkCandidate(\n",
            "                                       ^^^^^^^^^^^^^^\n",
            "  File \"/usr/local/lib/python3.12/site-packages/pip/_internal/resolution/resolvelib/candidates.py\", line 293, in __init__\n",
            "    super().__init__(\n",
            "  File \"/usr/local/lib/python3.12/site-packages/pip/_internal/resolution/resolvelib/candidates.py\", line 156, in __init__\n",
            "    self.dist = self._prepare()\n",
            "                ^^^^^^^^^^^^^^^\n",
            "  File \"/usr/local/lib/python3.12/site-packages/pip/_internal/resolution/resolvelib/candidates.py\", line 225, in _prepare\n",
            "    dist = self._prepare_distribution()\n",
            "           ^^^^^^^^^^^^^^^^^^^^^^^^^^^^\n",
            "  File \"/usr/local/lib/python3.12/site-packages/pip/_internal/resolution/resolvelib/candidates.py\", line 304, in _prepare_distribution\n",
            "    return preparer.prepare_linked_requirement(self._ireq, parallel_builds=True)\n",
            "           ^^^^^^^^^^^^^^^^^^^^^^^^^^^^^^^^^^^^^^^^^^^^^^^^^^^^^^^^^^^^^^^^^^^^^\n",
            "  File \"/usr/local/lib/python3.12/site-packages/pip/_internal/operations/prepare.py\", line 525, in prepare_linked_requirement\n",
            "    return self._prepare_linked_requirement(req, parallel_builds)\n",
            "           ^^^^^^^^^^^^^^^^^^^^^^^^^^^^^^^^^^^^^^^^^^^^^^^^^^^^^^\n",
            "  File \"/usr/local/lib/python3.12/site-packages/pip/_internal/operations/prepare.py\", line 640, in _prepare_linked_requirement\n",
            "    dist = _get_prepared_distribution(\n",
            "           ^^^^^^^^^^^^^^^^^^^^^^^^^^^\n",
            "  File \"/usr/local/lib/python3.12/site-packages/pip/_internal/operations/prepare.py\", line 71, in _get_prepared_distribution\n",
            "    abstract_dist.prepare_distribution_metadata(\n",
            "  File \"/usr/local/lib/python3.12/site-packages/pip/_internal/distributions/sdist.py\", line 54, in prepare_distribution_metadata\n",
            "    self._install_build_reqs(finder)\n",
            "  File \"/usr/local/lib/python3.12/site-packages/pip/_internal/distributions/sdist.py\", line 124, in _install_build_reqs\n",
            "    build_reqs = self._get_build_requires_wheel()\n",
            "                 ^^^^^^^^^^^^^^^^^^^^^^^^^^^^^^^^\n",
            "  File \"/usr/local/lib/python3.12/site-packages/pip/_internal/distributions/sdist.py\", line 101, in _get_build_requires_wheel\n",
            "    return backend.get_requires_for_build_wheel()\n",
            "           ^^^^^^^^^^^^^^^^^^^^^^^^^^^^^^^^^^^^^^\n",
            "  File \"/usr/local/lib/python3.12/site-packages/pip/_internal/utils/misc.py\", line 751, in get_requires_for_build_wheel\n",
            "    return super().get_requires_for_build_wheel(config_settings=cs)\n",
            "           ^^^^^^^^^^^^^^^^^^^^^^^^^^^^^^^^^^^^^^^^^^^^^^^^^^^^^^^^\n",
            "  File \"/usr/local/lib/python3.12/site-packages/pip/_vendor/pyproject_hooks/_impl.py\", line 166, in get_requires_for_build_wheel\n",
            "    return self._call_hook('get_requires_for_build_wheel', {\n",
            "           ^^^^^^^^^^^^^^^^^^^^^^^^^^^^^^^^^^^^^^^^^^^^^^^^^\n",
            "  File \"/usr/local/lib/python3.12/site-packages/pip/_vendor/pyproject_hooks/_impl.py\", line 321, in _call_hook\n",
            "    raise BackendUnavailable(data.get('traceback', ''))\n",
            "pip._vendor.pyproject_hooks._impl.BackendUnavailable: Traceback (most recent call last):\n",
            "  File \"/usr/local/lib/python3.12/site-packages/pip/_vendor/pyproject_hooks/_in_process/_in_process.py\", line 77, in _build_backend\n",
            "    obj = import_module(mod_path)\n",
            "          ^^^^^^^^^^^^^^^^^^^^^^^\n",
            "  File \"/usr/local/lib/python3.12/importlib/__init__.py\", line 90, in import_module\n",
            "    return _bootstrap._gcd_import(name[level:], package, level)\n",
            "           ^^^^^^^^^^^^^^^^^^^^^^^^^^^^^^^^^^^^^^^^^^^^^^^^^^^^\n",
            "  File \"<frozen importlib._bootstrap>\", line 1387, in _gcd_import\n",
            "  File \"<frozen importlib._bootstrap>\", line 1360, in _find_and_load\n",
            "  File \"<frozen importlib._bootstrap>\", line 1310, in _find_and_load_unlocked\n",
            "  File \"<frozen importlib._bootstrap>\", line 488, in _call_with_frames_removed\n",
            "  File \"<frozen importlib._bootstrap>\", line 1387, in _gcd_import\n",
            "  File \"<frozen importlib._bootstrap>\", line 1360, in _find_and_load\n",
            "  File \"<frozen importlib._bootstrap>\", line 1331, in _find_and_load_unlocked\n",
            "  File \"<frozen importlib._bootstrap>\", line 935, in _load_unlocked\n",
            "  File \"<frozen importlib._bootstrap_external>\", line 995, in exec_module\n",
            "  File \"<frozen importlib._bootstrap>\", line 488, in _call_with_frames_removed\n",
            "  File \"/tmp/pip-build-env-j8skwhrq/overlay/lib/python3.12/site-packages/setuptools/__init__.py\", line 10, in <module>\n",
            "    import distutils.core\n",
            "ModuleNotFoundError: No module named 'distutils'\n",
            "\u001b[0m\u001b[31m\n",
            "\u001b[0mRequirement already satisfied: albumentations==1.1.0 in /usr/local/lib/python3.12/site-packages (1.1.0)\n",
            "Requirement already satisfied: numpy>=1.11.1 in /usr/local/lib/python3.12/site-packages (from albumentations==1.1.0) (1.26.4)\n",
            "Requirement already satisfied: scipy in /usr/local/lib/python3.12/site-packages (from albumentations==1.1.0) (1.13.0)\n",
            "Requirement already satisfied: scikit-image>=0.16.1 in /usr/local/lib/python3.12/site-packages (from albumentations==1.1.0) (0.23.2)\n",
            "Requirement already satisfied: PyYAML in /usr/local/lib/python3.12/site-packages (from albumentations==1.1.0) (6.0.1)\n",
            "Requirement already satisfied: qudida>=0.0.4 in /usr/local/lib/python3.12/site-packages (from albumentations==1.1.0) (0.0.4)\n",
            "Requirement already satisfied: opencv-python-headless>=4.1.1 in /usr/local/lib/python3.12/site-packages (from albumentations==1.1.0) (4.9.0.80)\n",
            "Requirement already satisfied: scikit-learn>=0.19.1 in /usr/local/lib/python3.12/site-packages (from qudida>=0.0.4->albumentations==1.1.0) (1.4.2)\n",
            "Requirement already satisfied: typing-extensions in /usr/local/lib/python3.12/site-packages (from qudida>=0.0.4->albumentations==1.1.0) (4.11.0)\n",
            "Requirement already satisfied: networkx>=2.8 in /usr/local/lib/python3.12/site-packages (from scikit-image>=0.16.1->albumentations==1.1.0) (3.3)\n",
            "Requirement already satisfied: pillow>=9.1 in /usr/local/lib/python3.12/site-packages (from scikit-image>=0.16.1->albumentations==1.1.0) (10.3.0)\n",
            "Requirement already satisfied: imageio>=2.33 in /usr/local/lib/python3.12/site-packages (from scikit-image>=0.16.1->albumentations==1.1.0) (2.34.1)\n",
            "Requirement already satisfied: tifffile>=2022.8.12 in /usr/local/lib/python3.12/site-packages (from scikit-image>=0.16.1->albumentations==1.1.0) (2024.5.3)\n",
            "Requirement already satisfied: packaging>=21 in /usr/local/lib/python3.12/site-packages (from scikit-image>=0.16.1->albumentations==1.1.0) (23.2)\n",
            "Requirement already satisfied: lazy-loader>=0.4 in /usr/local/lib/python3.12/site-packages (from scikit-image>=0.16.1->albumentations==1.1.0) (0.4)\n",
            "Requirement already satisfied: joblib>=1.2.0 in /usr/local/lib/python3.12/site-packages (from scikit-learn>=0.19.1->qudida>=0.0.4->albumentations==1.1.0) (1.4.2)\n",
            "Requirement already satisfied: threadpoolctl>=2.0.0 in /usr/local/lib/python3.12/site-packages (from scikit-learn>=0.19.1->qudida>=0.0.4->albumentations==1.1.0) (3.5.0)\n",
            "\u001b[33mWARNING: Running pip as the 'root' user can result in broken permissions and conflicting behaviour with the system package manager. It is recommended to use a virtual environment instead: https://pip.pypa.io/warnings/venv\u001b[0m\u001b[33m\n",
            "\u001b[0mLooking in indexes: https://pypi.org/simple, https://download.pytorch.org/whl/cu113\n",
            "\u001b[31mERROR: Could not find a version that satisfies the requirement torch==1.12.0+cu113 (from versions: 2.2.0, 2.2.1, 2.2.2, 2.3.0)\u001b[0m\u001b[31m\n",
            "\u001b[0m\u001b[31mERROR: No matching distribution found for torch==1.12.0+cu113\u001b[0m\u001b[31m\n",
            "\u001b[0mRequirement already satisfied: efficientnet-pytorch==0.7.1 in /usr/local/lib/python3.12/site-packages (0.7.1)\n",
            "Requirement already satisfied: torch in /usr/local/lib/python3.12/site-packages (from efficientnet-pytorch==0.7.1) (2.3.0)\n",
            "Requirement already satisfied: filelock in /usr/local/lib/python3.12/site-packages (from torch->efficientnet-pytorch==0.7.1) (3.14.0)\n",
            "Requirement already satisfied: typing-extensions>=4.8.0 in /usr/local/lib/python3.12/site-packages (from torch->efficientnet-pytorch==0.7.1) (4.11.0)\n",
            "Requirement already satisfied: sympy in /usr/local/lib/python3.12/site-packages (from torch->efficientnet-pytorch==0.7.1) (1.12)\n",
            "Requirement already satisfied: networkx in /usr/local/lib/python3.12/site-packages (from torch->efficientnet-pytorch==0.7.1) (3.3)\n",
            "Requirement already satisfied: jinja2 in /usr/local/lib/python3.12/site-packages (from torch->efficientnet-pytorch==0.7.1) (3.1.4)\n",
            "Requirement already satisfied: fsspec in /usr/local/lib/python3.12/site-packages (from torch->efficientnet-pytorch==0.7.1) (2024.3.1)\n",
            "Requirement already satisfied: nvidia-cuda-nvrtc-cu12==12.1.105 in /usr/local/lib/python3.12/site-packages (from torch->efficientnet-pytorch==0.7.1) (12.1.105)\n",
            "Requirement already satisfied: nvidia-cuda-runtime-cu12==12.1.105 in /usr/local/lib/python3.12/site-packages (from torch->efficientnet-pytorch==0.7.1) (12.1.105)\n",
            "Requirement already satisfied: nvidia-cuda-cupti-cu12==12.1.105 in /usr/local/lib/python3.12/site-packages (from torch->efficientnet-pytorch==0.7.1) (12.1.105)\n",
            "Requirement already satisfied: nvidia-cudnn-cu12==8.9.2.26 in /usr/local/lib/python3.12/site-packages (from torch->efficientnet-pytorch==0.7.1) (8.9.2.26)\n",
            "Requirement already satisfied: nvidia-cublas-cu12==12.1.3.1 in /usr/local/lib/python3.12/site-packages (from torch->efficientnet-pytorch==0.7.1) (12.1.3.1)\n",
            "Requirement already satisfied: nvidia-cufft-cu12==11.0.2.54 in /usr/local/lib/python3.12/site-packages (from torch->efficientnet-pytorch==0.7.1) (11.0.2.54)\n",
            "Requirement already satisfied: nvidia-curand-cu12==10.3.2.106 in /usr/local/lib/python3.12/site-packages (from torch->efficientnet-pytorch==0.7.1) (10.3.2.106)\n",
            "Requirement already satisfied: nvidia-cusolver-cu12==11.4.5.107 in /usr/local/lib/python3.12/site-packages (from torch->efficientnet-pytorch==0.7.1) (11.4.5.107)\n",
            "Requirement already satisfied: nvidia-cusparse-cu12==12.1.0.106 in /usr/local/lib/python3.12/site-packages (from torch->efficientnet-pytorch==0.7.1) (12.1.0.106)\n",
            "Requirement already satisfied: nvidia-nccl-cu12==2.20.5 in /usr/local/lib/python3.12/site-packages (from torch->efficientnet-pytorch==0.7.1) (2.20.5)\n",
            "Requirement already satisfied: nvidia-nvtx-cu12==12.1.105 in /usr/local/lib/python3.12/site-packages (from torch->efficientnet-pytorch==0.7.1) (12.1.105)\n",
            "Requirement already satisfied: nvidia-nvjitlink-cu12 in /usr/local/lib/python3.12/site-packages (from nvidia-cusolver-cu12==11.4.5.107->torch->efficientnet-pytorch==0.7.1) (12.4.127)\n",
            "Requirement already satisfied: MarkupSafe>=2.0 in /usr/local/lib/python3.12/site-packages (from jinja2->torch->efficientnet-pytorch==0.7.1) (2.1.5)\n",
            "Requirement already satisfied: mpmath>=0.19 in /usr/local/lib/python3.12/site-packages (from sympy->torch->efficientnet-pytorch==0.7.1) (1.3.0)\n",
            "\u001b[33mWARNING: Running pip as the 'root' user can result in broken permissions and conflicting behaviour with the system package manager. It is recommended to use a virtual environment instead: https://pip.pypa.io/warnings/venv\u001b[0m\u001b[33m\n",
            "\u001b[0mRequirement already satisfied: timm==0.6.12 in /usr/local/lib/python3.12/site-packages (0.6.12)\n",
            "Requirement already satisfied: torch>=1.7 in /usr/local/lib/python3.12/site-packages (from timm==0.6.12) (2.3.0)\n",
            "Requirement already satisfied: torchvision in /usr/local/lib/python3.12/site-packages (from timm==0.6.12) (0.18.0)\n",
            "Requirement already satisfied: pyyaml in /usr/local/lib/python3.12/site-packages (from timm==0.6.12) (6.0.1)\n",
            "Requirement already satisfied: huggingface-hub in /usr/local/lib/python3.12/site-packages (from timm==0.6.12) (0.23.0)\n",
            "Requirement already satisfied: filelock in /usr/local/lib/python3.12/site-packages (from torch>=1.7->timm==0.6.12) (3.14.0)\n",
            "Requirement already satisfied: typing-extensions>=4.8.0 in /usr/local/lib/python3.12/site-packages (from torch>=1.7->timm==0.6.12) (4.11.0)\n",
            "Requirement already satisfied: sympy in /usr/local/lib/python3.12/site-packages (from torch>=1.7->timm==0.6.12) (1.12)\n",
            "Requirement already satisfied: networkx in /usr/local/lib/python3.12/site-packages (from torch>=1.7->timm==0.6.12) (3.3)\n",
            "Requirement already satisfied: jinja2 in /usr/local/lib/python3.12/site-packages (from torch>=1.7->timm==0.6.12) (3.1.4)\n",
            "Requirement already satisfied: fsspec in /usr/local/lib/python3.12/site-packages (from torch>=1.7->timm==0.6.12) (2024.3.1)\n",
            "Requirement already satisfied: nvidia-cuda-nvrtc-cu12==12.1.105 in /usr/local/lib/python3.12/site-packages (from torch>=1.7->timm==0.6.12) (12.1.105)\n",
            "Requirement already satisfied: nvidia-cuda-runtime-cu12==12.1.105 in /usr/local/lib/python3.12/site-packages (from torch>=1.7->timm==0.6.12) (12.1.105)\n",
            "Requirement already satisfied: nvidia-cuda-cupti-cu12==12.1.105 in /usr/local/lib/python3.12/site-packages (from torch>=1.7->timm==0.6.12) (12.1.105)\n",
            "Requirement already satisfied: nvidia-cudnn-cu12==8.9.2.26 in /usr/local/lib/python3.12/site-packages (from torch>=1.7->timm==0.6.12) (8.9.2.26)\n",
            "Requirement already satisfied: nvidia-cublas-cu12==12.1.3.1 in /usr/local/lib/python3.12/site-packages (from torch>=1.7->timm==0.6.12) (12.1.3.1)\n",
            "Requirement already satisfied: nvidia-cufft-cu12==11.0.2.54 in /usr/local/lib/python3.12/site-packages (from torch>=1.7->timm==0.6.12) (11.0.2.54)\n",
            "Requirement already satisfied: nvidia-curand-cu12==10.3.2.106 in /usr/local/lib/python3.12/site-packages (from torch>=1.7->timm==0.6.12) (10.3.2.106)\n",
            "Requirement already satisfied: nvidia-cusolver-cu12==11.4.5.107 in /usr/local/lib/python3.12/site-packages (from torch>=1.7->timm==0.6.12) (11.4.5.107)\n",
            "Requirement already satisfied: nvidia-cusparse-cu12==12.1.0.106 in /usr/local/lib/python3.12/site-packages (from torch>=1.7->timm==0.6.12) (12.1.0.106)\n",
            "Requirement already satisfied: nvidia-nccl-cu12==2.20.5 in /usr/local/lib/python3.12/site-packages (from torch>=1.7->timm==0.6.12) (2.20.5)\n",
            "Requirement already satisfied: nvidia-nvtx-cu12==12.1.105 in /usr/local/lib/python3.12/site-packages (from torch>=1.7->timm==0.6.12) (12.1.105)\n",
            "Requirement already satisfied: nvidia-nvjitlink-cu12 in /usr/local/lib/python3.12/site-packages (from nvidia-cusolver-cu12==11.4.5.107->torch>=1.7->timm==0.6.12) (12.4.127)\n",
            "Requirement already satisfied: packaging>=20.9 in /usr/local/lib/python3.12/site-packages (from huggingface-hub->timm==0.6.12) (23.2)\n",
            "Requirement already satisfied: requests in /usr/local/lib/python3.12/site-packages (from huggingface-hub->timm==0.6.12) (2.31.0)\n",
            "Requirement already satisfied: tqdm>=4.42.1 in /usr/local/lib/python3.12/site-packages (from huggingface-hub->timm==0.6.12) (4.61.0)\n",
            "Requirement already satisfied: numpy in /usr/local/lib/python3.12/site-packages (from torchvision->timm==0.6.12) (1.26.4)\n",
            "Requirement already satisfied: pillow!=8.3.*,>=5.3.0 in /usr/local/lib/python3.12/site-packages (from torchvision->timm==0.6.12) (10.3.0)\n",
            "Requirement already satisfied: MarkupSafe>=2.0 in /usr/local/lib/python3.12/site-packages (from jinja2->torch>=1.7->timm==0.6.12) (2.1.5)\n",
            "Requirement already satisfied: charset-normalizer<4,>=2 in /usr/local/lib/python3.12/site-packages (from requests->huggingface-hub->timm==0.6.12) (2.0.4)\n",
            "Requirement already satisfied: idna<4,>=2.5 in /usr/local/lib/python3.12/site-packages (from requests->huggingface-hub->timm==0.6.12) (3.4)\n",
            "Requirement already satisfied: urllib3<3,>=1.21.1 in /usr/local/lib/python3.12/site-packages (from requests->huggingface-hub->timm==0.6.12) (2.1.0)\n",
            "Requirement already satisfied: certifi>=2017.4.17 in /usr/local/lib/python3.12/site-packages (from requests->huggingface-hub->timm==0.6.12) (2024.2.2)\n",
            "Requirement already satisfied: mpmath>=0.19 in /usr/local/lib/python3.12/site-packages (from sympy->torch>=1.7->timm==0.6.12) (1.3.0)\n",
            "\u001b[33mWARNING: Running pip as the 'root' user can result in broken permissions and conflicting behaviour with the system package manager. It is recommended to use a virtual environment instead: https://pip.pypa.io/warnings/venv\u001b[0m\u001b[33m\n",
            "\u001b[0mRequirement already satisfied: segmentation-models-pytorch==0.3.2 in /usr/local/lib/python3.12/site-packages (0.3.2)\n",
            "Requirement already satisfied: torchvision>=0.5.0 in /usr/local/lib/python3.12/site-packages (from segmentation-models-pytorch==0.3.2) (0.18.0)\n",
            "Requirement already satisfied: pretrainedmodels==0.7.4 in /usr/local/lib/python3.12/site-packages (from segmentation-models-pytorch==0.3.2) (0.7.4)\n",
            "Requirement already satisfied: efficientnet-pytorch==0.7.1 in /usr/local/lib/python3.12/site-packages (from segmentation-models-pytorch==0.3.2) (0.7.1)\n",
            "Requirement already satisfied: timm==0.6.12 in /usr/local/lib/python3.12/site-packages (from segmentation-models-pytorch==0.3.2) (0.6.12)\n",
            "Requirement already satisfied: tqdm in /usr/local/lib/python3.12/site-packages (from segmentation-models-pytorch==0.3.2) (4.61.0)\n",
            "Requirement already satisfied: pillow in /usr/local/lib/python3.12/site-packages (from segmentation-models-pytorch==0.3.2) (10.3.0)\n",
            "Requirement already satisfied: torch in /usr/local/lib/python3.12/site-packages (from efficientnet-pytorch==0.7.1->segmentation-models-pytorch==0.3.2) (2.3.0)\n",
            "Requirement already satisfied: munch in /usr/local/lib/python3.12/site-packages (from pretrainedmodels==0.7.4->segmentation-models-pytorch==0.3.2) (4.0.0)\n",
            "Requirement already satisfied: pyyaml in /usr/local/lib/python3.12/site-packages (from timm==0.6.12->segmentation-models-pytorch==0.3.2) (6.0.1)\n",
            "Requirement already satisfied: huggingface-hub in /usr/local/lib/python3.12/site-packages (from timm==0.6.12->segmentation-models-pytorch==0.3.2) (0.23.0)\n",
            "Requirement already satisfied: numpy in /usr/local/lib/python3.12/site-packages (from torchvision>=0.5.0->segmentation-models-pytorch==0.3.2) (1.26.4)\n",
            "Requirement already satisfied: filelock in /usr/local/lib/python3.12/site-packages (from torch->efficientnet-pytorch==0.7.1->segmentation-models-pytorch==0.3.2) (3.14.0)\n",
            "Requirement already satisfied: typing-extensions>=4.8.0 in /usr/local/lib/python3.12/site-packages (from torch->efficientnet-pytorch==0.7.1->segmentation-models-pytorch==0.3.2) (4.11.0)\n",
            "Requirement already satisfied: sympy in /usr/local/lib/python3.12/site-packages (from torch->efficientnet-pytorch==0.7.1->segmentation-models-pytorch==0.3.2) (1.12)\n",
            "Requirement already satisfied: networkx in /usr/local/lib/python3.12/site-packages (from torch->efficientnet-pytorch==0.7.1->segmentation-models-pytorch==0.3.2) (3.3)\n",
            "Requirement already satisfied: jinja2 in /usr/local/lib/python3.12/site-packages (from torch->efficientnet-pytorch==0.7.1->segmentation-models-pytorch==0.3.2) (3.1.4)\n",
            "Requirement already satisfied: fsspec in /usr/local/lib/python3.12/site-packages (from torch->efficientnet-pytorch==0.7.1->segmentation-models-pytorch==0.3.2) (2024.3.1)\n",
            "Requirement already satisfied: nvidia-cuda-nvrtc-cu12==12.1.105 in /usr/local/lib/python3.12/site-packages (from torch->efficientnet-pytorch==0.7.1->segmentation-models-pytorch==0.3.2) (12.1.105)\n",
            "Requirement already satisfied: nvidia-cuda-runtime-cu12==12.1.105 in /usr/local/lib/python3.12/site-packages (from torch->efficientnet-pytorch==0.7.1->segmentation-models-pytorch==0.3.2) (12.1.105)\n",
            "Requirement already satisfied: nvidia-cuda-cupti-cu12==12.1.105 in /usr/local/lib/python3.12/site-packages (from torch->efficientnet-pytorch==0.7.1->segmentation-models-pytorch==0.3.2) (12.1.105)\n",
            "Requirement already satisfied: nvidia-cudnn-cu12==8.9.2.26 in /usr/local/lib/python3.12/site-packages (from torch->efficientnet-pytorch==0.7.1->segmentation-models-pytorch==0.3.2) (8.9.2.26)\n",
            "Requirement already satisfied: nvidia-cublas-cu12==12.1.3.1 in /usr/local/lib/python3.12/site-packages (from torch->efficientnet-pytorch==0.7.1->segmentation-models-pytorch==0.3.2) (12.1.3.1)\n",
            "Requirement already satisfied: nvidia-cufft-cu12==11.0.2.54 in /usr/local/lib/python3.12/site-packages (from torch->efficientnet-pytorch==0.7.1->segmentation-models-pytorch==0.3.2) (11.0.2.54)\n",
            "Requirement already satisfied: nvidia-curand-cu12==10.3.2.106 in /usr/local/lib/python3.12/site-packages (from torch->efficientnet-pytorch==0.7.1->segmentation-models-pytorch==0.3.2) (10.3.2.106)\n",
            "Requirement already satisfied: nvidia-cusolver-cu12==11.4.5.107 in /usr/local/lib/python3.12/site-packages (from torch->efficientnet-pytorch==0.7.1->segmentation-models-pytorch==0.3.2) (11.4.5.107)\n",
            "Requirement already satisfied: nvidia-cusparse-cu12==12.1.0.106 in /usr/local/lib/python3.12/site-packages (from torch->efficientnet-pytorch==0.7.1->segmentation-models-pytorch==0.3.2) (12.1.0.106)\n",
            "Requirement already satisfied: nvidia-nccl-cu12==2.20.5 in /usr/local/lib/python3.12/site-packages (from torch->efficientnet-pytorch==0.7.1->segmentation-models-pytorch==0.3.2) (2.20.5)\n",
            "Requirement already satisfied: nvidia-nvtx-cu12==12.1.105 in /usr/local/lib/python3.12/site-packages (from torch->efficientnet-pytorch==0.7.1->segmentation-models-pytorch==0.3.2) (12.1.105)\n",
            "Requirement already satisfied: nvidia-nvjitlink-cu12 in /usr/local/lib/python3.12/site-packages (from nvidia-cusolver-cu12==11.4.5.107->torch->efficientnet-pytorch==0.7.1->segmentation-models-pytorch==0.3.2) (12.4.127)\n",
            "Requirement already satisfied: packaging>=20.9 in /usr/local/lib/python3.12/site-packages (from huggingface-hub->timm==0.6.12->segmentation-models-pytorch==0.3.2) (23.2)\n",
            "Requirement already satisfied: requests in /usr/local/lib/python3.12/site-packages (from huggingface-hub->timm==0.6.12->segmentation-models-pytorch==0.3.2) (2.31.0)\n",
            "Requirement already satisfied: MarkupSafe>=2.0 in /usr/local/lib/python3.12/site-packages (from jinja2->torch->efficientnet-pytorch==0.7.1->segmentation-models-pytorch==0.3.2) (2.1.5)\n",
            "Requirement already satisfied: charset-normalizer<4,>=2 in /usr/local/lib/python3.12/site-packages (from requests->huggingface-hub->timm==0.6.12->segmentation-models-pytorch==0.3.2) (2.0.4)\n",
            "Requirement already satisfied: idna<4,>=2.5 in /usr/local/lib/python3.12/site-packages (from requests->huggingface-hub->timm==0.6.12->segmentation-models-pytorch==0.3.2) (3.4)\n",
            "Requirement already satisfied: urllib3<3,>=1.21.1 in /usr/local/lib/python3.12/site-packages (from requests->huggingface-hub->timm==0.6.12->segmentation-models-pytorch==0.3.2) (2.1.0)\n",
            "Requirement already satisfied: certifi>=2017.4.17 in /usr/local/lib/python3.12/site-packages (from requests->huggingface-hub->timm==0.6.12->segmentation-models-pytorch==0.3.2) (2024.2.2)\n",
            "Requirement already satisfied: mpmath>=0.19 in /usr/local/lib/python3.12/site-packages (from sympy->torch->efficientnet-pytorch==0.7.1->segmentation-models-pytorch==0.3.2) (1.3.0)\n",
            "\u001b[33mWARNING: Running pip as the 'root' user can result in broken permissions and conflicting behaviour with the system package manager. It is recommended to use a virtual environment instead: https://pip.pypa.io/warnings/venv\u001b[0m\u001b[33m\n",
            "\u001b[0mRequirement already satisfied: torchtoolbox==0.1.8.2 in /usr/local/lib/python3.12/site-packages (0.1.8.2)\n",
            "Requirement already satisfied: numpy in /usr/local/lib/python3.12/site-packages (from torchtoolbox==0.1.8.2) (1.26.4)\n",
            "Requirement already satisfied: tqdm in /usr/local/lib/python3.12/site-packages (from torchtoolbox==0.1.8.2) (4.61.0)\n",
            "Requirement already satisfied: pyarrow in /usr/local/lib/python3.12/site-packages (from torchtoolbox==0.1.8.2) (16.0.0)\n",
            "Requirement already satisfied: six in /usr/local/lib/python3.12/site-packages (from torchtoolbox==0.1.8.2) (1.16.0)\n",
            "Requirement already satisfied: lmdb in /usr/local/lib/python3.12/site-packages (from torchtoolbox==0.1.8.2) (1.4.1)\n",
            "Requirement already satisfied: scikit-learn in /usr/local/lib/python3.12/site-packages (from torchtoolbox==0.1.8.2) (1.4.2)\n",
            "Requirement already satisfied: scipy in /usr/local/lib/python3.12/site-packages (from torchtoolbox==0.1.8.2) (1.13.0)\n",
            "Requirement already satisfied: opencv-python in /usr/local/lib/python3.12/site-packages (from torchtoolbox==0.1.8.2) (4.6.0.66)\n",
            "Requirement already satisfied: pyyaml in /usr/local/lib/python3.12/site-packages (from torchtoolbox==0.1.8.2) (6.0.1)\n",
            "Requirement already satisfied: tensorboard in /usr/local/lib/python3.12/site-packages (from torchtoolbox==0.1.8.2) (2.10.1)\n",
            "Requirement already satisfied: prettytable in /usr/local/lib/python3.12/site-packages (from torchtoolbox==0.1.8.2) (3.10.0)\n",
            "Requirement already satisfied: transformers in /usr/local/lib/python3.12/site-packages (from torchtoolbox==0.1.8.2) (4.40.2)\n",
            "Requirement already satisfied: wcwidth in /usr/local/lib/python3.12/site-packages (from prettytable->torchtoolbox==0.1.8.2) (0.2.13)\n",
            "Requirement already satisfied: joblib>=1.2.0 in /usr/local/lib/python3.12/site-packages (from scikit-learn->torchtoolbox==0.1.8.2) (1.4.2)\n",
            "Requirement already satisfied: threadpoolctl>=2.0.0 in /usr/local/lib/python3.12/site-packages (from scikit-learn->torchtoolbox==0.1.8.2) (3.5.0)\n",
            "Requirement already satisfied: absl-py>=0.4 in /usr/local/lib/python3.12/site-packages (from tensorboard->torchtoolbox==0.1.8.2) (2.1.0)\n",
            "Requirement already satisfied: grpcio>=1.24.3 in /usr/local/lib/python3.12/site-packages (from tensorboard->torchtoolbox==0.1.8.2) (1.63.0)\n",
            "Requirement already satisfied: google-auth<3,>=1.6.3 in /usr/local/lib/python3.12/site-packages (from tensorboard->torchtoolbox==0.1.8.2) (2.29.0)\n",
            "Requirement already satisfied: google-auth-oauthlib<0.5,>=0.4.1 in /usr/local/lib/python3.12/site-packages (from tensorboard->torchtoolbox==0.1.8.2) (0.4.6)\n",
            "Requirement already satisfied: markdown>=2.6.8 in /usr/local/lib/python3.12/site-packages (from tensorboard->torchtoolbox==0.1.8.2) (3.6)\n",
            "Requirement already satisfied: protobuf<3.20,>=3.9.2 in /usr/local/lib/python3.12/site-packages (from tensorboard->torchtoolbox==0.1.8.2) (3.19.6)\n",
            "Requirement already satisfied: requests<3,>=2.21.0 in /usr/local/lib/python3.12/site-packages (from tensorboard->torchtoolbox==0.1.8.2) (2.31.0)\n",
            "Requirement already satisfied: setuptools>=41.0.0 in /usr/local/lib/python3.12/site-packages (from tensorboard->torchtoolbox==0.1.8.2) (59.5.0)\n",
            "Requirement already satisfied: tensorboard-data-server<0.7.0,>=0.6.0 in /usr/local/lib/python3.12/site-packages (from tensorboard->torchtoolbox==0.1.8.2) (0.6.1)\n",
            "Requirement already satisfied: tensorboard-plugin-wit>=1.6.0 in /usr/local/lib/python3.12/site-packages (from tensorboard->torchtoolbox==0.1.8.2) (1.8.1)\n",
            "Requirement already satisfied: werkzeug>=1.0.1 in /usr/local/lib/python3.12/site-packages (from tensorboard->torchtoolbox==0.1.8.2) (3.0.3)\n",
            "Requirement already satisfied: wheel>=0.26 in /usr/local/lib/python3.12/site-packages (from tensorboard->torchtoolbox==0.1.8.2) (0.41.2)\n",
            "Requirement already satisfied: filelock in /usr/local/lib/python3.12/site-packages (from transformers->torchtoolbox==0.1.8.2) (3.14.0)\n",
            "Requirement already satisfied: huggingface-hub<1.0,>=0.19.3 in /usr/local/lib/python3.12/site-packages (from transformers->torchtoolbox==0.1.8.2) (0.23.0)\n",
            "Requirement already satisfied: packaging>=20.0 in /usr/local/lib/python3.12/site-packages (from transformers->torchtoolbox==0.1.8.2) (23.2)\n",
            "Requirement already satisfied: regex!=2019.12.17 in /usr/local/lib/python3.12/site-packages (from transformers->torchtoolbox==0.1.8.2) (2024.4.28)\n",
            "Requirement already satisfied: tokenizers<0.20,>=0.19 in /usr/local/lib/python3.12/site-packages (from transformers->torchtoolbox==0.1.8.2) (0.19.1)\n",
            "Requirement already satisfied: safetensors>=0.4.1 in /usr/local/lib/python3.12/site-packages (from transformers->torchtoolbox==0.1.8.2) (0.4.3)\n",
            "Requirement already satisfied: cachetools<6.0,>=2.0.0 in /usr/local/lib/python3.12/site-packages (from google-auth<3,>=1.6.3->tensorboard->torchtoolbox==0.1.8.2) (5.3.3)\n",
            "Requirement already satisfied: pyasn1-modules>=0.2.1 in /usr/local/lib/python3.12/site-packages (from google-auth<3,>=1.6.3->tensorboard->torchtoolbox==0.1.8.2) (0.4.0)\n",
            "Requirement already satisfied: rsa<5,>=3.1.4 in /usr/local/lib/python3.12/site-packages (from google-auth<3,>=1.6.3->tensorboard->torchtoolbox==0.1.8.2) (4.9)\n",
            "Requirement already satisfied: requests-oauthlib>=0.7.0 in /usr/local/lib/python3.12/site-packages (from google-auth-oauthlib<0.5,>=0.4.1->tensorboard->torchtoolbox==0.1.8.2) (2.0.0)\n",
            "Requirement already satisfied: fsspec>=2023.5.0 in /usr/local/lib/python3.12/site-packages (from huggingface-hub<1.0,>=0.19.3->transformers->torchtoolbox==0.1.8.2) (2024.3.1)\n",
            "Requirement already satisfied: typing-extensions>=3.7.4.3 in /usr/local/lib/python3.12/site-packages (from huggingface-hub<1.0,>=0.19.3->transformers->torchtoolbox==0.1.8.2) (4.11.0)\n",
            "Requirement already satisfied: charset-normalizer<4,>=2 in /usr/local/lib/python3.12/site-packages (from requests<3,>=2.21.0->tensorboard->torchtoolbox==0.1.8.2) (2.0.4)\n",
            "Requirement already satisfied: idna<4,>=2.5 in /usr/local/lib/python3.12/site-packages (from requests<3,>=2.21.0->tensorboard->torchtoolbox==0.1.8.2) (3.4)\n",
            "Requirement already satisfied: urllib3<3,>=1.21.1 in /usr/local/lib/python3.12/site-packages (from requests<3,>=2.21.0->tensorboard->torchtoolbox==0.1.8.2) (2.1.0)\n",
            "Requirement already satisfied: certifi>=2017.4.17 in /usr/local/lib/python3.12/site-packages (from requests<3,>=2.21.0->tensorboard->torchtoolbox==0.1.8.2) (2024.2.2)\n",
            "Requirement already satisfied: MarkupSafe>=2.1.1 in /usr/local/lib/python3.12/site-packages (from werkzeug>=1.0.1->tensorboard->torchtoolbox==0.1.8.2) (2.1.5)\n",
            "Requirement already satisfied: pyasn1<0.7.0,>=0.4.6 in /usr/local/lib/python3.12/site-packages (from pyasn1-modules>=0.2.1->google-auth<3,>=1.6.3->tensorboard->torchtoolbox==0.1.8.2) (0.6.0)\n",
            "Requirement already satisfied: oauthlib>=3.0.0 in /usr/local/lib/python3.12/site-packages (from requests-oauthlib>=0.7.0->google-auth-oauthlib<0.5,>=0.4.1->tensorboard->torchtoolbox==0.1.8.2) (3.2.2)\n",
            "\u001b[33mWARNING: Running pip as the 'root' user can result in broken permissions and conflicting behaviour with the system package manager. It is recommended to use a virtual environment instead: https://pip.pypa.io/warnings/venv\u001b[0m\u001b[33m\n",
            "\u001b[0mRequirement already satisfied: tensorboard==2.10.1 in /usr/local/lib/python3.12/site-packages (2.10.1)\n",
            "Requirement already satisfied: absl-py>=0.4 in /usr/local/lib/python3.12/site-packages (from tensorboard==2.10.1) (2.1.0)\n",
            "Requirement already satisfied: grpcio>=1.24.3 in /usr/local/lib/python3.12/site-packages (from tensorboard==2.10.1) (1.63.0)\n",
            "Requirement already satisfied: google-auth<3,>=1.6.3 in /usr/local/lib/python3.12/site-packages (from tensorboard==2.10.1) (2.29.0)\n",
            "Requirement already satisfied: google-auth-oauthlib<0.5,>=0.4.1 in /usr/local/lib/python3.12/site-packages (from tensorboard==2.10.1) (0.4.6)\n",
            "Requirement already satisfied: markdown>=2.6.8 in /usr/local/lib/python3.12/site-packages (from tensorboard==2.10.1) (3.6)\n",
            "Requirement already satisfied: numpy>=1.12.0 in /usr/local/lib/python3.12/site-packages (from tensorboard==2.10.1) (1.26.4)\n",
            "Requirement already satisfied: protobuf<3.20,>=3.9.2 in /usr/local/lib/python3.12/site-packages (from tensorboard==2.10.1) (3.19.6)\n",
            "Requirement already satisfied: requests<3,>=2.21.0 in /usr/local/lib/python3.12/site-packages (from tensorboard==2.10.1) (2.31.0)\n",
            "Requirement already satisfied: setuptools>=41.0.0 in /usr/local/lib/python3.12/site-packages (from tensorboard==2.10.1) (59.5.0)\n",
            "Requirement already satisfied: tensorboard-data-server<0.7.0,>=0.6.0 in /usr/local/lib/python3.12/site-packages (from tensorboard==2.10.1) (0.6.1)\n",
            "Requirement already satisfied: tensorboard-plugin-wit>=1.6.0 in /usr/local/lib/python3.12/site-packages (from tensorboard==2.10.1) (1.8.1)\n",
            "Requirement already satisfied: werkzeug>=1.0.1 in /usr/local/lib/python3.12/site-packages (from tensorboard==2.10.1) (3.0.3)\n",
            "Requirement already satisfied: wheel>=0.26 in /usr/local/lib/python3.12/site-packages (from tensorboard==2.10.1) (0.41.2)\n",
            "Requirement already satisfied: cachetools<6.0,>=2.0.0 in /usr/local/lib/python3.12/site-packages (from google-auth<3,>=1.6.3->tensorboard==2.10.1) (5.3.3)\n",
            "Requirement already satisfied: pyasn1-modules>=0.2.1 in /usr/local/lib/python3.12/site-packages (from google-auth<3,>=1.6.3->tensorboard==2.10.1) (0.4.0)\n",
            "Requirement already satisfied: rsa<5,>=3.1.4 in /usr/local/lib/python3.12/site-packages (from google-auth<3,>=1.6.3->tensorboard==2.10.1) (4.9)\n",
            "Requirement already satisfied: requests-oauthlib>=0.7.0 in /usr/local/lib/python3.12/site-packages (from google-auth-oauthlib<0.5,>=0.4.1->tensorboard==2.10.1) (2.0.0)\n",
            "Requirement already satisfied: charset-normalizer<4,>=2 in /usr/local/lib/python3.12/site-packages (from requests<3,>=2.21.0->tensorboard==2.10.1) (2.0.4)\n",
            "Requirement already satisfied: idna<4,>=2.5 in /usr/local/lib/python3.12/site-packages (from requests<3,>=2.21.0->tensorboard==2.10.1) (3.4)\n",
            "Requirement already satisfied: urllib3<3,>=1.21.1 in /usr/local/lib/python3.12/site-packages (from requests<3,>=2.21.0->tensorboard==2.10.1) (2.1.0)\n",
            "Requirement already satisfied: certifi>=2017.4.17 in /usr/local/lib/python3.12/site-packages (from requests<3,>=2.21.0->tensorboard==2.10.1) (2024.2.2)\n",
            "Requirement already satisfied: MarkupSafe>=2.1.1 in /usr/local/lib/python3.12/site-packages (from werkzeug>=1.0.1->tensorboard==2.10.1) (2.1.5)\n",
            "Requirement already satisfied: pyasn1<0.7.0,>=0.4.6 in /usr/local/lib/python3.12/site-packages (from pyasn1-modules>=0.2.1->google-auth<3,>=1.6.3->tensorboard==2.10.1) (0.6.0)\n",
            "Requirement already satisfied: oauthlib>=3.0.0 in /usr/local/lib/python3.12/site-packages (from requests-oauthlib>=0.7.0->google-auth-oauthlib<0.5,>=0.4.1->tensorboard==2.10.1) (3.2.2)\n",
            "\u001b[33mWARNING: Running pip as the 'root' user can result in broken permissions and conflicting behaviour with the system package manager. It is recommended to use a virtual environment instead: https://pip.pypa.io/warnings/venv\u001b[0m\u001b[33m\n",
            "\u001b[0mCollecting git+https://github.com/openai/CLIP.git\n",
            "  Cloning https://github.com/openai/CLIP.git to /tmp/pip-req-build-is2p87df\n",
            "  Running command git clone --filter=blob:none --quiet https://github.com/openai/CLIP.git /tmp/pip-req-build-is2p87df\n",
            "  Resolved https://github.com/openai/CLIP.git to commit a1d071733d7111c9c014f024669f959182114e33\n",
            "  \u001b[1;31merror\u001b[0m: \u001b[1msubprocess-exited-with-error\u001b[0m\n",
            "  \n",
            "  \u001b[31m×\u001b[0m \u001b[32mpython setup.py egg_info\u001b[0m did not run successfully.\n",
            "  \u001b[31m│\u001b[0m exit code: \u001b[1;36m1\u001b[0m\n",
            "  \u001b[31m╰─>\u001b[0m See above for output.\n",
            "  \n",
            "  \u001b[1;35mnote\u001b[0m: This error originates from a subprocess, and is likely not a problem with pip.\n",
            "  Preparing metadata (setup.py) ... \u001b[?25l\u001b[?25herror\n",
            "\u001b[1;31merror\u001b[0m: \u001b[1mmetadata-generation-failed\u001b[0m\n",
            "\n",
            "\u001b[31m×\u001b[0m Encountered error while generating package metadata.\n",
            "\u001b[31m╰─>\u001b[0m See above for output.\n",
            "\n",
            "\u001b[1;35mnote\u001b[0m: This is an issue with the package mentioned above, not pip.\n",
            "\u001b[1;36mhint\u001b[0m: See above for details.\n"
          ]
        }
      ],
      "source": [
        "!sh install.sh"
      ]
    },
    {
      "cell_type": "code",
      "execution_count": 10,
      "metadata": {
        "colab": {
          "base_uri": "https://localhost:8080/"
        },
        "id": "1J7WxjzHhhxP",
        "outputId": "0c66cb83-8932-4eef-c415-1c25112255e1"
      },
      "outputs": [
        {
          "output_type": "stream",
          "name": "stdout",
          "text": [
            "Requirement already satisfied: numpy in /usr/local/lib/python3.12/site-packages (1.26.4)\n",
            "Requirement already satisfied: scipy in /usr/local/lib/python3.12/site-packages (1.13.0)\n",
            "Requirement already satisfied: scikit-image in /usr/local/lib/python3.12/site-packages (0.23.2)\n",
            "Requirement already satisfied: timm in /usr/local/lib/python3.12/site-packages (0.6.12)\n",
            "Requirement already satisfied: networkx>=2.8 in /usr/local/lib/python3.12/site-packages (from scikit-image) (3.3)\n",
            "Requirement already satisfied: pillow>=9.1 in /usr/local/lib/python3.12/site-packages (from scikit-image) (10.3.0)\n",
            "Requirement already satisfied: imageio>=2.33 in /usr/local/lib/python3.12/site-packages (from scikit-image) (2.34.1)\n",
            "Requirement already satisfied: tifffile>=2022.8.12 in /usr/local/lib/python3.12/site-packages (from scikit-image) (2024.5.3)\n",
            "Requirement already satisfied: packaging>=21 in /usr/local/lib/python3.12/site-packages (from scikit-image) (23.2)\n",
            "Requirement already satisfied: lazy-loader>=0.4 in /usr/local/lib/python3.12/site-packages (from scikit-image) (0.4)\n",
            "Requirement already satisfied: torch>=1.7 in /usr/local/lib/python3.12/site-packages (from timm) (2.3.0)\n",
            "Requirement already satisfied: torchvision in /usr/local/lib/python3.12/site-packages (from timm) (0.18.0)\n",
            "Requirement already satisfied: pyyaml in /usr/local/lib/python3.12/site-packages (from timm) (6.0.1)\n",
            "Requirement already satisfied: huggingface-hub in /usr/local/lib/python3.12/site-packages (from timm) (0.23.0)\n",
            "Requirement already satisfied: filelock in /usr/local/lib/python3.12/site-packages (from torch>=1.7->timm) (3.14.0)\n",
            "Requirement already satisfied: typing-extensions>=4.8.0 in /usr/local/lib/python3.12/site-packages (from torch>=1.7->timm) (4.11.0)\n",
            "Requirement already satisfied: sympy in /usr/local/lib/python3.12/site-packages (from torch>=1.7->timm) (1.12)\n",
            "Requirement already satisfied: jinja2 in /usr/local/lib/python3.12/site-packages (from torch>=1.7->timm) (3.1.4)\n",
            "Requirement already satisfied: fsspec in /usr/local/lib/python3.12/site-packages (from torch>=1.7->timm) (2024.3.1)\n",
            "Requirement already satisfied: nvidia-cuda-nvrtc-cu12==12.1.105 in /usr/local/lib/python3.12/site-packages (from torch>=1.7->timm) (12.1.105)\n",
            "Requirement already satisfied: nvidia-cuda-runtime-cu12==12.1.105 in /usr/local/lib/python3.12/site-packages (from torch>=1.7->timm) (12.1.105)\n",
            "Requirement already satisfied: nvidia-cuda-cupti-cu12==12.1.105 in /usr/local/lib/python3.12/site-packages (from torch>=1.7->timm) (12.1.105)\n",
            "Requirement already satisfied: nvidia-cudnn-cu12==8.9.2.26 in /usr/local/lib/python3.12/site-packages (from torch>=1.7->timm) (8.9.2.26)\n",
            "Requirement already satisfied: nvidia-cublas-cu12==12.1.3.1 in /usr/local/lib/python3.12/site-packages (from torch>=1.7->timm) (12.1.3.1)\n",
            "Requirement already satisfied: nvidia-cufft-cu12==11.0.2.54 in /usr/local/lib/python3.12/site-packages (from torch>=1.7->timm) (11.0.2.54)\n",
            "Requirement already satisfied: nvidia-curand-cu12==10.3.2.106 in /usr/local/lib/python3.12/site-packages (from torch>=1.7->timm) (10.3.2.106)\n",
            "Requirement already satisfied: nvidia-cusolver-cu12==11.4.5.107 in /usr/local/lib/python3.12/site-packages (from torch>=1.7->timm) (11.4.5.107)\n",
            "Requirement already satisfied: nvidia-cusparse-cu12==12.1.0.106 in /usr/local/lib/python3.12/site-packages (from torch>=1.7->timm) (12.1.0.106)\n",
            "Requirement already satisfied: nvidia-nccl-cu12==2.20.5 in /usr/local/lib/python3.12/site-packages (from torch>=1.7->timm) (2.20.5)\n",
            "Requirement already satisfied: nvidia-nvtx-cu12==12.1.105 in /usr/local/lib/python3.12/site-packages (from torch>=1.7->timm) (12.1.105)\n",
            "Requirement already satisfied: nvidia-nvjitlink-cu12 in /usr/local/lib/python3.12/site-packages (from nvidia-cusolver-cu12==11.4.5.107->torch>=1.7->timm) (12.4.127)\n",
            "Requirement already satisfied: requests in /usr/local/lib/python3.12/site-packages (from huggingface-hub->timm) (2.31.0)\n",
            "Requirement already satisfied: tqdm>=4.42.1 in /usr/local/lib/python3.12/site-packages (from huggingface-hub->timm) (4.61.0)\n",
            "Requirement already satisfied: MarkupSafe>=2.0 in /usr/local/lib/python3.12/site-packages (from jinja2->torch>=1.7->timm) (2.1.5)\n",
            "Requirement already satisfied: charset-normalizer<4,>=2 in /usr/local/lib/python3.12/site-packages (from requests->huggingface-hub->timm) (2.0.4)\n",
            "Requirement already satisfied: idna<4,>=2.5 in /usr/local/lib/python3.12/site-packages (from requests->huggingface-hub->timm) (3.4)\n",
            "Requirement already satisfied: urllib3<3,>=1.21.1 in /usr/local/lib/python3.12/site-packages (from requests->huggingface-hub->timm) (2.1.0)\n",
            "Requirement already satisfied: certifi>=2017.4.17 in /usr/local/lib/python3.12/site-packages (from requests->huggingface-hub->timm) (2024.2.2)\n",
            "Requirement already satisfied: mpmath>=0.19 in /usr/local/lib/python3.12/site-packages (from sympy->torch>=1.7->timm) (1.3.0)\n",
            "\u001b[33mWARNING: Running pip as the 'root' user can result in broken permissions and conflicting behaviour with the system package manager. It is recommended to use a virtual environment instead: https://pip.pypa.io/warnings/venv\u001b[0m\u001b[33m\n",
            "\u001b[0m"
          ]
        }
      ],
      "source": [
        "!pip install numpy scipy scikit-image timm"
      ]
    },
    {
      "cell_type": "code",
      "execution_count": 11,
      "metadata": {
        "colab": {
          "base_uri": "https://localhost:8080/"
        },
        "id": "XTJMCByNhkFQ",
        "outputId": "0ac89c38-9616-4115-cc52-849136f1c8d0"
      },
      "outputs": [
        {
          "output_type": "stream",
          "name": "stdout",
          "text": [
            "Requirement already satisfied: torch in /usr/local/lib/python3.12/site-packages (2.3.0)\n",
            "Requirement already satisfied: filelock in /usr/local/lib/python3.12/site-packages (from torch) (3.14.0)\n",
            "Requirement already satisfied: typing-extensions>=4.8.0 in /usr/local/lib/python3.12/site-packages (from torch) (4.11.0)\n",
            "Requirement already satisfied: sympy in /usr/local/lib/python3.12/site-packages (from torch) (1.12)\n",
            "Requirement already satisfied: networkx in /usr/local/lib/python3.12/site-packages (from torch) (3.3)\n",
            "Requirement already satisfied: jinja2 in /usr/local/lib/python3.12/site-packages (from torch) (3.1.4)\n",
            "Requirement already satisfied: fsspec in /usr/local/lib/python3.12/site-packages (from torch) (2024.3.1)\n",
            "Requirement already satisfied: nvidia-cuda-nvrtc-cu12==12.1.105 in /usr/local/lib/python3.12/site-packages (from torch) (12.1.105)\n",
            "Requirement already satisfied: nvidia-cuda-runtime-cu12==12.1.105 in /usr/local/lib/python3.12/site-packages (from torch) (12.1.105)\n",
            "Requirement already satisfied: nvidia-cuda-cupti-cu12==12.1.105 in /usr/local/lib/python3.12/site-packages (from torch) (12.1.105)\n",
            "Requirement already satisfied: nvidia-cudnn-cu12==8.9.2.26 in /usr/local/lib/python3.12/site-packages (from torch) (8.9.2.26)\n",
            "Requirement already satisfied: nvidia-cublas-cu12==12.1.3.1 in /usr/local/lib/python3.12/site-packages (from torch) (12.1.3.1)\n",
            "Requirement already satisfied: nvidia-cufft-cu12==11.0.2.54 in /usr/local/lib/python3.12/site-packages (from torch) (11.0.2.54)\n",
            "Requirement already satisfied: nvidia-curand-cu12==10.3.2.106 in /usr/local/lib/python3.12/site-packages (from torch) (10.3.2.106)\n",
            "Requirement already satisfied: nvidia-cusolver-cu12==11.4.5.107 in /usr/local/lib/python3.12/site-packages (from torch) (11.4.5.107)\n",
            "Requirement already satisfied: nvidia-cusparse-cu12==12.1.0.106 in /usr/local/lib/python3.12/site-packages (from torch) (12.1.0.106)\n",
            "Requirement already satisfied: nvidia-nccl-cu12==2.20.5 in /usr/local/lib/python3.12/site-packages (from torch) (2.20.5)\n",
            "Requirement already satisfied: nvidia-nvtx-cu12==12.1.105 in /usr/local/lib/python3.12/site-packages (from torch) (12.1.105)\n",
            "Requirement already satisfied: nvidia-nvjitlink-cu12 in /usr/local/lib/python3.12/site-packages (from nvidia-cusolver-cu12==11.4.5.107->torch) (12.4.127)\n",
            "Requirement already satisfied: MarkupSafe>=2.0 in /usr/local/lib/python3.12/site-packages (from jinja2->torch) (2.1.5)\n",
            "Requirement already satisfied: mpmath>=0.19 in /usr/local/lib/python3.12/site-packages (from sympy->torch) (1.3.0)\n",
            "\u001b[33mWARNING: Running pip as the 'root' user can result in broken permissions and conflicting behaviour with the system package manager. It is recommended to use a virtual environment instead: https://pip.pypa.io/warnings/venv\u001b[0m\u001b[33m\n",
            "\u001b[0m"
          ]
        }
      ],
      "source": [
        "!pip install torch"
      ]
    },
    {
      "cell_type": "code",
      "execution_count": 30,
      "metadata": {
        "colab": {
          "base_uri": "https://localhost:8080/"
        },
        "id": "i4eXwt64ZofI",
        "outputId": "e2f58bef-3c71-4901-f777-29fe3b117d8b"
      },
      "outputs": [
        {
          "output_type": "stream",
          "name": "stdout",
          "text": [
            "/content/DeepfakeBench/preprocessing\n"
          ]
        }
      ],
      "source": [
        "%cd preprocessing/"
      ]
    },
    {
      "cell_type": "code",
      "execution_count": 13,
      "metadata": {
        "colab": {
          "base_uri": "https://localhost:8080/"
        },
        "id": "EzCU1pr9iFz1",
        "outputId": "7d1d0a31-c41f-4e9a-f8c4-4881e26f03ad"
      },
      "outputs": [
        {
          "output_type": "stream",
          "name": "stdout",
          "text": [
            "Collecting dlib\n",
            "  Downloading dlib-19.24.4.tar.gz (3.3 MB)\n",
            "\u001b[2K     \u001b[90m━━━━━━━━━━━━━━━━━━━━━━━━━━━━━━━━━━━━━━━━\u001b[0m \u001b[32m3.3/3.3 MB\u001b[0m \u001b[31m11.1 MB/s\u001b[0m eta \u001b[36m0:00:00\u001b[0m\n",
            "\u001b[?25h  Installing build dependencies ... \u001b[?25l\u001b[?25hdone\n",
            "  Getting requirements to build wheel ... \u001b[?25l\u001b[?25hdone\n",
            "  Preparing metadata (pyproject.toml) ... \u001b[?25l\u001b[?25hdone\n",
            "Building wheels for collected packages: dlib\n",
            "  Building wheel for dlib (pyproject.toml) ... \u001b[?25l\u001b[?25hdone\n",
            "  Created wheel for dlib: filename=dlib-19.24.4-cp312-cp312-linux_x86_64.whl size=4366350 sha256=ded76824d4f606e934187cbf2e8e747c74ba4d52b508144571cb9db6e0b11926\n",
            "  Stored in directory: /root/.cache/pip/wheels/8f/43/db/bc992916743fe85aacf53ad5691e5d25d1c9babe3467b3a4ec\n",
            "Successfully built dlib\n",
            "Installing collected packages: dlib\n",
            "Successfully installed dlib-19.24.4\n",
            "\u001b[33mWARNING: Running pip as the 'root' user can result in broken permissions and conflicting behaviour with the system package manager. It is recommended to use a virtual environment instead: https://pip.pypa.io/warnings/venv\u001b[0m\u001b[33m\n",
            "\u001b[0m"
          ]
        }
      ],
      "source": [
        "!pip install dlib\n"
      ]
    },
    {
      "cell_type": "code",
      "execution_count": 31,
      "metadata": {
        "colab": {
          "base_uri": "https://localhost:8080/"
        },
        "id": "rHMsQ15ch7Aq",
        "outputId": "93a7d81f-6604-4f13-9f4a-75e35b66db36"
      },
      "outputs": [
        {
          "output_type": "stream",
          "name": "stdout",
          "text": [
            "2024-05-07 15:43:24,118 - INFO - 49 videos found in /content/drive/MyDrive/UADFV/fake\n",
            "  0% 0/49 [00:00<?, ?it/s]2024-05-07 15:43:31,196 - INFO - Current time: 2024-05-07 15:43:31\n",
            "  2% 1/49 [00:06<04:52,  6.10s/it]2024-05-07 15:43:36,457 - INFO - Current time: 2024-05-07 15:43:36\n",
            "  4% 2/49 [00:11<04:23,  5.60s/it]2024-05-07 15:43:41,010 - INFO - Current time: 2024-05-07 15:43:41\n",
            "  6% 3/49 [00:16<03:58,  5.19s/it]2024-05-07 15:43:47,670 - INFO - Current time: 2024-05-07 15:43:47\n",
            "  8% 4/49 [00:22<04:17,  5.71s/it]2024-05-07 15:43:49,088 - WARNING - No faces in frame 6 of /content/drive/MyDrive/UADFV/fake/0005_fake.mp4\n",
            "2024-05-07 15:43:50,022 - INFO - Current time: 2024-05-07 15:43:50\n",
            " 10% 5/49 [00:24<03:18,  4.50s/it]2024-05-07 15:43:59,946 - WARNING - No faces in frame 188 of /content/drive/MyDrive/UADFV/fake/0005_fake.mp4\n",
            "2024-05-07 15:44:00,191 - WARNING - No faces in frame 195 of /content/drive/MyDrive/UADFV/fake/0005_fake.mp4\n",
            "2024-05-07 15:44:00,415 - WARNING - No faces in frame 202 of /content/drive/MyDrive/UADFV/fake/0005_fake.mp4\n",
            "2024-05-07 15:44:00,770 - INFO - Current time: 2024-05-07 15:44:00\n",
            " 12% 6/49 [00:35<04:44,  6.63s/it]2024-05-07 15:44:01,679 - INFO - Current time: 2024-05-07 15:44:01\n",
            " 14% 7/49 [00:36<03:19,  4.76s/it]2024-05-07 15:44:13,467 - INFO - Current time: 2024-05-07 15:44:13\n",
            " 16% 8/49 [00:48<04:46,  7.00s/it]2024-05-07 15:44:14,321 - INFO - Current time: 2024-05-07 15:44:14\n",
            " 18% 9/49 [00:49<03:23,  5.08s/it]2024-05-07 15:44:27,110 - INFO - Current time: 2024-05-07 15:44:27\n",
            " 20% 10/49 [01:02<04:50,  7.46s/it]2024-05-07 15:44:29,671 - INFO - Current time: 2024-05-07 15:44:29\n",
            " 22% 11/49 [01:04<03:46,  5.96s/it]2024-05-07 15:44:37,203 - INFO - Current time: 2024-05-07 15:44:37\n",
            " 24% 12/49 [01:12<03:58,  6.44s/it]2024-05-07 15:44:40,674 - INFO - Current time: 2024-05-07 15:44:40\n",
            " 27% 13/49 [01:15<03:19,  5.54s/it]2024-05-07 15:44:46,385 - INFO - Current time: 2024-05-07 15:44:46\n",
            " 29% 14/49 [01:21<03:15,  5.59s/it]2024-05-07 15:44:51,050 - INFO - Current time: 2024-05-07 15:44:51\n",
            " 31% 15/49 [01:25<03:00,  5.31s/it]2024-05-07 15:44:57,021 - INFO - Current time: 2024-05-07 15:44:57\n",
            " 33% 16/49 [01:31<03:01,  5.51s/it]2024-05-07 15:45:02,208 - INFO - Current time: 2024-05-07 15:45:02\n",
            " 35% 17/49 [01:37<02:53,  5.41s/it]2024-05-07 15:45:10,239 - INFO - Current time: 2024-05-07 15:45:10\n",
            " 37% 18/49 [01:45<03:12,  6.20s/it]2024-05-07 15:45:14,787 - INFO - Current time: 2024-05-07 15:45:14\n",
            " 39% 19/49 [01:49<02:52,  5.74s/it]2024-05-07 15:45:23,180 - INFO - Current time: 2024-05-07 15:45:23\n",
            " 41% 20/49 [01:58<03:08,  6.50s/it]2024-05-07 15:45:26,515 - INFO - Current time: 2024-05-07 15:45:26\n",
            " 43% 21/49 [02:01<02:35,  5.55s/it]2024-05-07 15:45:35,309 - INFO - Current time: 2024-05-07 15:45:35\n",
            " 45% 22/49 [02:10<02:56,  6.52s/it]2024-05-07 15:45:38,761 - INFO - Current time: 2024-05-07 15:45:38\n",
            " 47% 23/49 [02:13<02:25,  5.60s/it]2024-05-07 15:45:46,100 - INFO - Current time: 2024-05-07 15:45:46\n",
            " 49% 24/49 [02:20<02:33,  6.12s/it]2024-05-07 15:45:49,445 - INFO - Current time: 2024-05-07 15:45:49\n",
            " 51% 25/49 [02:24<02:06,  5.29s/it]2024-05-07 15:45:54,809 - INFO - Current time: 2024-05-07 15:45:54\n",
            " 53% 26/49 [02:29<02:02,  5.31s/it]2024-05-07 15:45:56,987 - INFO - Current time: 2024-05-07 15:45:56\n",
            " 55% 27/49 [02:31<01:36,  4.37s/it]2024-05-07 15:46:02,061 - INFO - Current time: 2024-05-07 15:46:02\n",
            " 57% 28/49 [02:36<01:36,  4.58s/it]2024-05-07 15:46:04,658 - WARNING - No faces in frame 129 of /content/drive/MyDrive/UADFV/fake/0028_fake.mp4\n",
            "2024-05-07 15:46:04,749 - WARNING - No faces in frame 133 of /content/drive/MyDrive/UADFV/fake/0028_fake.mp4\n",
            "2024-05-07 15:46:04,860 - WARNING - No faces in frame 138 of /content/drive/MyDrive/UADFV/fake/0028_fake.mp4\n",
            "2024-05-07 15:46:05,204 - INFO - Current time: 2024-05-07 15:46:05\n",
            " 59% 29/49 [02:40<01:23,  4.15s/it]2024-05-07 15:46:10,755 - INFO - Current time: 2024-05-07 15:46:10\n",
            " 61% 30/49 [02:45<01:26,  4.57s/it]2024-05-07 15:46:16,016 - INFO - Current time: 2024-05-07 15:46:16\n",
            " 63% 31/49 [02:50<01:25,  4.78s/it]2024-05-07 15:46:21,536 - INFO - Current time: 2024-05-07 15:46:21\n",
            " 65% 32/49 [02:56<01:25,  5.00s/it]2024-05-07 15:46:24,936 - WARNING - No faces in frame 28 of /content/drive/MyDrive/UADFV/fake/0033_fake.mp4\n",
            "2024-05-07 15:46:25,152 - WARNING - No faces in frame 30 of /content/drive/MyDrive/UADFV/fake/0033_fake.mp4\n",
            "2024-05-07 15:46:25,375 - WARNING - No faces in frame 33 of /content/drive/MyDrive/UADFV/fake/0033_fake.mp4\n",
            "2024-05-07 15:46:25,596 - WARNING - No faces in frame 36 of /content/drive/MyDrive/UADFV/fake/0033_fake.mp4\n",
            "2024-05-07 15:46:25,848 - WARNING - No faces in frame 39 of /content/drive/MyDrive/UADFV/fake/0033_fake.mp4\n",
            "2024-05-07 15:46:26,654 - WARNING - No faces in frame 44 of /content/drive/MyDrive/UADFV/fake/0033_fake.mp4\n",
            "2024-05-07 15:46:26,654 - INFO - Current time: 2024-05-07 15:46:26\n",
            " 67% 33/49 [03:01<01:20,  5.04s/it]2024-05-07 15:46:33,382 - INFO - Current time: 2024-05-07 15:46:33\n",
            " 69% 34/49 [03:08<01:23,  5.54s/it]2024-05-07 15:46:38,160 - INFO - Current time: 2024-05-07 15:46:38\n",
            " 71% 35/49 [03:13<01:14,  5.31s/it]2024-05-07 15:46:38,932 - INFO - Current time: 2024-05-07 15:46:38\n",
            " 73% 36/49 [03:13<00:51,  3.95s/it]2024-05-07 15:46:43,834 - WARNING - No faces in frame 129 of /content/drive/MyDrive/UADFV/fake/0036_fake.mp4\n",
            "2024-05-07 15:46:43,968 - WARNING - No faces in frame 133 of /content/drive/MyDrive/UADFV/fake/0036_fake.mp4\n",
            "2024-05-07 15:46:44,111 - WARNING - No faces in frame 138 of /content/drive/MyDrive/UADFV/fake/0036_fake.mp4\n",
            "2024-05-07 15:46:44,279 - WARNING - No faces in frame 143 of /content/drive/MyDrive/UADFV/fake/0036_fake.mp4\n",
            "2024-05-07 15:46:44,706 - INFO - Current time: 2024-05-07 15:46:44\n",
            " 76% 37/49 [03:19<00:55,  4.59s/it]2024-05-07 15:46:49,969 - INFO - Current time: 2024-05-07 15:46:49\n",
            " 78% 38/49 [03:24<00:51,  4.70s/it]2024-05-07 15:46:55,862 - INFO - Current time: 2024-05-07 15:46:55\n",
            " 80% 39/49 [03:30<00:50,  5.06s/it]2024-05-07 15:46:59,709 - INFO - Current time: 2024-05-07 15:46:59\n",
            " 82% 40/49 [03:34<00:42,  4.69s/it]2024-05-07 15:47:08,735 - INFO - Current time: 2024-05-07 15:47:08\n",
            " 84% 41/49 [03:43<00:47,  5.99s/it]2024-05-07 15:47:10,348 - INFO - Current time: 2024-05-07 15:47:10\n",
            " 86% 42/49 [03:45<00:32,  4.68s/it]2024-05-07 15:47:20,662 - INFO - Current time: 2024-05-07 15:47:20\n",
            " 88% 43/49 [03:55<00:38,  6.37s/it]2024-05-07 15:47:22,617 - INFO - Current time: 2024-05-07 15:47:22\n",
            " 90% 44/49 [03:57<00:25,  5.10s/it]2024-05-07 15:47:34,263 - INFO - Current time: 2024-05-07 15:47:34\n",
            " 92% 45/49 [04:09<00:28,  7.01s/it]2024-05-07 15:47:34,796 - INFO - Current time: 2024-05-07 15:47:34\n",
            " 94% 46/49 [04:09<00:15,  5.07s/it]2024-05-07 15:47:47,503 - INFO - Current time: 2024-05-07 15:47:47\n",
            " 96% 47/49 [04:22<00:14,  7.36s/it]2024-05-07 15:47:48,062 - INFO - Current time: 2024-05-07 15:47:48\n",
            " 98% 48/49 [04:22<00:05,  5.32s/it]2024-05-07 15:47:52,545 - INFO - Current time: 2024-05-07 15:47:52\n",
            "100% 49/49 [04:27<00:00,  5.46s/it]\n",
            "2024-05-07 15:47:52,545 - INFO - Total time taken: 4.47 minutes\n",
            "2024-05-07 15:47:52,685 - INFO - 49 videos found in /content/drive/MyDrive/UADFV/real\n",
            "  0% 0/49 [00:00<?, ?it/s]2024-05-07 15:48:01,322 - INFO - Current time: 2024-05-07 15:48:01\n",
            "  2% 1/49 [00:07<06:17,  7.86s/it]2024-05-07 15:48:05,431 - INFO - Current time: 2024-05-07 15:48:05\n",
            "  4% 2/49 [00:11<04:25,  5.65s/it]2024-05-07 15:48:10,190 - INFO - Current time: 2024-05-07 15:48:10\n",
            "  6% 3/49 [00:16<04:01,  5.24s/it]2024-05-07 15:48:17,837 - INFO - Current time: 2024-05-07 15:48:17\n",
            "  8% 4/49 [00:24<04:38,  6.19s/it]2024-05-07 15:48:20,199 - INFO - Current time: 2024-05-07 15:48:20\n",
            " 10% 5/49 [00:26<03:33,  4.86s/it]2024-05-07 15:48:29,314 - WARNING - No faces in frame 188 of /content/drive/MyDrive/UADFV/real/0005.mp4\n",
            "2024-05-07 15:48:29,794 - WARNING - No faces in frame 195 of /content/drive/MyDrive/UADFV/real/0005.mp4\n",
            "2024-05-07 15:48:30,232 - WARNING - No faces in frame 202 of /content/drive/MyDrive/UADFV/real/0005.mp4\n",
            "2024-05-07 15:48:30,698 - INFO - Current time: 2024-05-07 15:48:30\n",
            " 12% 6/49 [00:37<04:49,  6.73s/it]2024-05-07 15:48:32,708 - INFO - Current time: 2024-05-07 15:48:32\n",
            " 14% 7/49 [00:39<03:37,  5.19s/it]2024-05-07 15:48:42,762 - INFO - Current time: 2024-05-07 15:48:42\n",
            " 16% 8/49 [00:49<04:36,  6.74s/it]2024-05-07 15:48:44,226 - INFO - Current time: 2024-05-07 15:48:44\n",
            " 18% 9/49 [00:50<03:23,  5.09s/it]2024-05-07 15:48:54,271 - INFO - Current time: 2024-05-07 15:48:54\n",
            " 20% 10/49 [01:00<04:19,  6.66s/it]2024-05-07 15:48:56,301 - INFO - Current time: 2024-05-07 15:48:56\n",
            " 22% 11/49 [01:02<03:17,  5.20s/it]2024-05-07 15:49:03,661 - INFO - Current time: 2024-05-07 15:49:03\n",
            " 24% 12/49 [01:10<03:36,  5.86s/it]2024-05-07 15:49:07,737 - INFO - Current time: 2024-05-07 15:49:07\n",
            " 27% 13/49 [01:14<03:11,  5.32s/it]2024-05-07 15:49:16,895 - INFO - Current time: 2024-05-07 15:49:16\n",
            " 29% 14/49 [01:23<03:48,  6.52s/it]2024-05-07 15:49:20,281 - INFO - Current time: 2024-05-07 15:49:20\n",
            " 31% 15/49 [01:26<03:08,  5.53s/it]2024-05-07 15:49:26,430 - INFO - Current time: 2024-05-07 15:49:26\n",
            " 33% 16/49 [01:32<03:08,  5.72s/it]2024-05-07 15:49:32,572 - INFO - Current time: 2024-05-07 15:49:32\n",
            " 35% 17/49 [01:39<03:07,  5.85s/it]2024-05-07 15:49:40,052 - INFO - Current time: 2024-05-07 15:49:40\n",
            " 37% 18/49 [01:46<03:16,  6.34s/it]2024-05-07 15:49:45,128 - INFO - Current time: 2024-05-07 15:49:45\n",
            " 39% 19/49 [01:51<02:58,  5.96s/it]2024-05-07 15:49:53,107 - INFO - Current time: 2024-05-07 15:49:53\n",
            " 41% 20/49 [01:59<03:10,  6.57s/it]2024-05-07 15:49:55,124 - INFO - Current time: 2024-05-07 15:49:55\n",
            " 43% 21/49 [02:01<02:25,  5.20s/it]2024-05-07 15:50:05,292 - INFO - Current time: 2024-05-07 15:50:05\n",
            " 45% 22/49 [02:11<03:00,  6.69s/it]2024-05-07 15:50:07,695 - INFO - Current time: 2024-05-07 15:50:07\n",
            " 47% 23/49 [02:14<02:20,  5.40s/it]2024-05-07 15:50:17,522 - INFO - Current time: 2024-05-07 15:50:17\n",
            " 49% 24/49 [02:24<02:48,  6.73s/it]2024-05-07 15:50:18,895 - INFO - Current time: 2024-05-07 15:50:18\n",
            " 51% 25/49 [02:25<02:02,  5.12s/it]2024-05-07 15:50:25,363 - INFO - Current time: 2024-05-07 15:50:25\n",
            " 53% 26/49 [02:31<02:07,  5.53s/it]2024-05-07 15:50:28,201 - INFO - Current time: 2024-05-07 15:50:28\n",
            " 55% 27/49 [02:34<01:43,  4.72s/it]2024-05-07 15:50:32,867 - INFO - Current time: 2024-05-07 15:50:32\n",
            " 57% 28/49 [02:39<01:38,  4.70s/it]2024-05-07 15:50:34,193 - WARNING - No faces in frame 129 of /content/drive/MyDrive/UADFV/real/0028.mp4\n",
            "2024-05-07 15:50:34,296 - WARNING - No faces in frame 133 of /content/drive/MyDrive/UADFV/real/0028.mp4\n",
            "2024-05-07 15:50:34,401 - WARNING - No faces in frame 138 of /content/drive/MyDrive/UADFV/real/0028.mp4\n",
            "2024-05-07 15:50:34,791 - INFO - Current time: 2024-05-07 15:50:34\n",
            " 59% 29/49 [02:41<01:17,  3.87s/it]2024-05-07 15:50:42,530 - INFO - Current time: 2024-05-07 15:50:42\n",
            " 61% 30/49 [02:49<01:35,  5.03s/it]2024-05-07 15:50:46,866 - INFO - Current time: 2024-05-07 15:50:46\n",
            " 63% 31/49 [02:53<01:26,  4.82s/it]2024-05-07 15:50:52,396 - INFO - Current time: 2024-05-07 15:50:52\n",
            " 65% 32/49 [02:58<01:25,  5.03s/it]2024-05-07 15:50:54,311 - WARNING - No faces in frame 11 of /content/drive/MyDrive/UADFV/real/0033.mp4\n",
            "2024-05-07 15:50:54,697 - WARNING - No faces in frame 14 of /content/drive/MyDrive/UADFV/real/0033.mp4\n",
            "2024-05-07 15:50:54,942 - WARNING - No faces in frame 16 of /content/drive/MyDrive/UADFV/real/0033.mp4\n",
            "2024-05-07 15:50:55,352 - WARNING - No faces in frame 19 of /content/drive/MyDrive/UADFV/real/0033.mp4\n",
            "2024-05-07 15:50:57,259 - WARNING - No faces in frame 30 of /content/drive/MyDrive/UADFV/real/0033.mp4\n",
            "2024-05-07 15:50:57,582 - WARNING - No faces in frame 33 of /content/drive/MyDrive/UADFV/real/0033.mp4\n",
            "2024-05-07 15:50:57,827 - WARNING - No faces in frame 36 of /content/drive/MyDrive/UADFV/real/0033.mp4\n",
            "2024-05-07 15:50:58,054 - WARNING - No faces in frame 39 of /content/drive/MyDrive/UADFV/real/0033.mp4\n",
            "2024-05-07 15:50:58,649 - INFO - Current time: 2024-05-07 15:50:58\n",
            " 67% 33/49 [03:05<01:26,  5.40s/it]2024-05-07 15:50:58,983 - WARNING - No faces in frame 44 of /content/drive/MyDrive/UADFV/real/0033.mp4\n",
            "2024-05-07 15:51:04,024 - INFO - Current time: 2024-05-07 15:51:04\n",
            " 69% 34/49 [03:10<01:20,  5.39s/it]2024-05-07 15:51:08,407 - INFO - Current time: 2024-05-07 15:51:08\n",
            " 71% 35/49 [03:14<01:11,  5.09s/it]2024-05-07 15:51:11,195 - INFO - Current time: 2024-05-07 15:51:11\n",
            " 73% 36/49 [03:17<00:57,  4.40s/it]2024-05-07 15:51:15,386 - WARNING - No faces in frame 129 of /content/drive/MyDrive/UADFV/real/0036.mp4\n",
            "2024-05-07 15:51:15,480 - WARNING - No faces in frame 133 of /content/drive/MyDrive/UADFV/real/0036.mp4\n",
            "2024-05-07 15:51:15,579 - WARNING - No faces in frame 138 of /content/drive/MyDrive/UADFV/real/0036.mp4\n",
            "2024-05-07 15:51:15,677 - WARNING - No faces in frame 143 of /content/drive/MyDrive/UADFV/real/0036.mp4\n",
            "2024-05-07 15:51:16,029 - INFO - Current time: 2024-05-07 15:51:16\n",
            " 76% 37/49 [03:22<00:54,  4.53s/it]2024-05-07 15:51:21,107 - INFO - Current time: 2024-05-07 15:51:21\n",
            " 78% 38/49 [03:27<00:52,  4.74s/it]2024-05-07 15:51:27,659 - INFO - Current time: 2024-05-07 15:51:27\n",
            " 80% 39/49 [03:34<00:52,  5.24s/it]2024-05-07 15:51:32,079 - INFO - Current time: 2024-05-07 15:51:32\n",
            " 82% 40/49 [03:38<00:44,  4.99s/it]2024-05-07 15:51:40,035 - INFO - Current time: 2024-05-07 15:51:40\n",
            " 84% 41/49 [03:46<00:47,  5.88s/it]2024-05-07 15:51:43,632 - INFO - Current time: 2024-05-07 15:51:43\n",
            " 86% 42/49 [03:50<00:36,  5.24s/it]2024-05-07 15:51:52,931 - INFO - Current time: 2024-05-07 15:51:52\n",
            " 88% 43/49 [03:59<00:38,  6.41s/it]2024-05-07 15:51:54,171 - INFO - Current time: 2024-05-07 15:51:54\n",
            " 90% 44/49 [04:00<00:24,  4.86s/it]2024-05-07 15:52:04,402 - INFO - Current time: 2024-05-07 15:52:04\n",
            " 92% 45/49 [04:10<00:25,  6.47s/it]2024-05-07 15:52:06,414 - INFO - Current time: 2024-05-07 15:52:06\n",
            " 94% 46/49 [04:12<00:15,  5.13s/it]2024-05-07 15:52:17,201 - WARNING - No faces in frame 688 of /content/drive/MyDrive/UADFV/real/0046.mp4\n",
            "2024-05-07 15:52:17,542 - INFO - Current time: 2024-05-07 15:52:17\n",
            " 96% 47/49 [04:24<00:13,  6.93s/it]2024-05-07 15:52:19,349 - INFO - Current time: 2024-05-07 15:52:19\n",
            " 98% 48/49 [04:25<00:05,  5.39s/it]2024-05-07 15:52:24,058 - INFO - Current time: 2024-05-07 15:52:24\n",
            "100% 49/49 [04:30<00:00,  5.52s/it]\n",
            "2024-05-07 15:52:24,059 - INFO - Total time taken: 4.52 minutes\n",
            "2024-05-07 15:52:24,059 - INFO - Face cropping complete!\n"
          ]
        }
      ],
      "source": [
        "!python preprocess.py"
      ]
    },
    {
      "cell_type": "code",
      "source": [
        "!pip install timm --upgrade\n"
      ],
      "metadata": {
        "colab": {
          "base_uri": "https://localhost:8080/"
        },
        "id": "t55fAfI8oRTH",
        "outputId": "6bfef245-d2ed-43e0-f5c5-c48f7b89d0ea"
      },
      "execution_count": 19,
      "outputs": [
        {
          "output_type": "stream",
          "name": "stdout",
          "text": [
            "Requirement already satisfied: timm in /usr/local/lib/python3.12/site-packages (0.6.12)\n",
            "Collecting timm\n",
            "  Downloading timm-0.9.16-py3-none-any.whl.metadata (38 kB)\n",
            "Requirement already satisfied: torch in /usr/local/lib/python3.12/site-packages (from timm) (2.3.0)\n",
            "Requirement already satisfied: torchvision in /usr/local/lib/python3.12/site-packages (from timm) (0.18.0)\n",
            "Requirement already satisfied: pyyaml in /usr/local/lib/python3.12/site-packages (from timm) (6.0.1)\n",
            "Requirement already satisfied: huggingface_hub in /usr/local/lib/python3.12/site-packages (from timm) (0.23.0)\n",
            "Requirement already satisfied: safetensors in /usr/local/lib/python3.12/site-packages (from timm) (0.4.3)\n",
            "Requirement already satisfied: filelock in /usr/local/lib/python3.12/site-packages (from huggingface_hub->timm) (3.14.0)\n",
            "Requirement already satisfied: fsspec>=2023.5.0 in /usr/local/lib/python3.12/site-packages (from huggingface_hub->timm) (2024.3.1)\n",
            "Requirement already satisfied: packaging>=20.9 in /usr/local/lib/python3.12/site-packages (from huggingface_hub->timm) (23.2)\n",
            "Requirement already satisfied: requests in /usr/local/lib/python3.12/site-packages (from huggingface_hub->timm) (2.31.0)\n",
            "Requirement already satisfied: tqdm>=4.42.1 in /usr/local/lib/python3.12/site-packages (from huggingface_hub->timm) (4.61.0)\n",
            "Requirement already satisfied: typing-extensions>=3.7.4.3 in /usr/local/lib/python3.12/site-packages (from huggingface_hub->timm) (4.11.0)\n",
            "Requirement already satisfied: sympy in /usr/local/lib/python3.12/site-packages (from torch->timm) (1.12)\n",
            "Requirement already satisfied: networkx in /usr/local/lib/python3.12/site-packages (from torch->timm) (3.3)\n",
            "Requirement already satisfied: jinja2 in /usr/local/lib/python3.12/site-packages (from torch->timm) (3.1.4)\n",
            "Requirement already satisfied: nvidia-cuda-nvrtc-cu12==12.1.105 in /usr/local/lib/python3.12/site-packages (from torch->timm) (12.1.105)\n",
            "Requirement already satisfied: nvidia-cuda-runtime-cu12==12.1.105 in /usr/local/lib/python3.12/site-packages (from torch->timm) (12.1.105)\n",
            "Requirement already satisfied: nvidia-cuda-cupti-cu12==12.1.105 in /usr/local/lib/python3.12/site-packages (from torch->timm) (12.1.105)\n",
            "Requirement already satisfied: nvidia-cudnn-cu12==8.9.2.26 in /usr/local/lib/python3.12/site-packages (from torch->timm) (8.9.2.26)\n",
            "Requirement already satisfied: nvidia-cublas-cu12==12.1.3.1 in /usr/local/lib/python3.12/site-packages (from torch->timm) (12.1.3.1)\n",
            "Requirement already satisfied: nvidia-cufft-cu12==11.0.2.54 in /usr/local/lib/python3.12/site-packages (from torch->timm) (11.0.2.54)\n",
            "Requirement already satisfied: nvidia-curand-cu12==10.3.2.106 in /usr/local/lib/python3.12/site-packages (from torch->timm) (10.3.2.106)\n",
            "Requirement already satisfied: nvidia-cusolver-cu12==11.4.5.107 in /usr/local/lib/python3.12/site-packages (from torch->timm) (11.4.5.107)\n",
            "Requirement already satisfied: nvidia-cusparse-cu12==12.1.0.106 in /usr/local/lib/python3.12/site-packages (from torch->timm) (12.1.0.106)\n",
            "Requirement already satisfied: nvidia-nccl-cu12==2.20.5 in /usr/local/lib/python3.12/site-packages (from torch->timm) (2.20.5)\n",
            "Requirement already satisfied: nvidia-nvtx-cu12==12.1.105 in /usr/local/lib/python3.12/site-packages (from torch->timm) (12.1.105)\n",
            "Requirement already satisfied: nvidia-nvjitlink-cu12 in /usr/local/lib/python3.12/site-packages (from nvidia-cusolver-cu12==11.4.5.107->torch->timm) (12.4.127)\n",
            "Requirement already satisfied: numpy in /usr/local/lib/python3.12/site-packages (from torchvision->timm) (1.26.4)\n",
            "Requirement already satisfied: pillow!=8.3.*,>=5.3.0 in /usr/local/lib/python3.12/site-packages (from torchvision->timm) (10.3.0)\n",
            "Requirement already satisfied: MarkupSafe>=2.0 in /usr/local/lib/python3.12/site-packages (from jinja2->torch->timm) (2.1.5)\n",
            "Requirement already satisfied: charset-normalizer<4,>=2 in /usr/local/lib/python3.12/site-packages (from requests->huggingface_hub->timm) (2.0.4)\n",
            "Requirement already satisfied: idna<4,>=2.5 in /usr/local/lib/python3.12/site-packages (from requests->huggingface_hub->timm) (3.4)\n",
            "Requirement already satisfied: urllib3<3,>=1.21.1 in /usr/local/lib/python3.12/site-packages (from requests->huggingface_hub->timm) (2.1.0)\n",
            "Requirement already satisfied: certifi>=2017.4.17 in /usr/local/lib/python3.12/site-packages (from requests->huggingface_hub->timm) (2024.2.2)\n",
            "Requirement already satisfied: mpmath>=0.19 in /usr/local/lib/python3.12/site-packages (from sympy->torch->timm) (1.3.0)\n",
            "Downloading timm-0.9.16-py3-none-any.whl (2.2 MB)\n",
            "\u001b[2K   \u001b[90m━━━━━━━━━━━━━━━━━━━━━━━━━━━━━━━━━━━━━━━━\u001b[0m \u001b[32m2.2/2.2 MB\u001b[0m \u001b[31m16.0 MB/s\u001b[0m eta \u001b[36m0:00:00\u001b[0m\n",
            "\u001b[?25hInstalling collected packages: timm\n",
            "  Attempting uninstall: timm\n",
            "    Found existing installation: timm 0.6.12\n",
            "    Uninstalling timm-0.6.12:\n",
            "      Successfully uninstalled timm-0.6.12\n",
            "\u001b[31mERROR: pip's dependency resolver does not currently take into account all the packages that are installed. This behaviour is the source of the following dependency conflicts.\n",
            "segmentation-models-pytorch 0.3.2 requires timm==0.6.12, but you have timm 0.9.16 which is incompatible.\u001b[0m\u001b[31m\n",
            "\u001b[0mSuccessfully installed timm-0.9.16\n",
            "\u001b[33mWARNING: Running pip as the 'root' user can result in broken permissions and conflicting behaviour with the system package manager. It is recommended to use a virtual environment instead: https://pip.pypa.io/warnings/venv\u001b[0m\u001b[33m\n",
            "\u001b[0m"
          ]
        }
      ]
    },
    {
      "cell_type": "code",
      "source": [
        "%cd DeepfakeBench\n",
        "\n"
      ],
      "metadata": {
        "colab": {
          "base_uri": "https://localhost:8080/"
        },
        "id": "cT4IzbSzqA1r",
        "outputId": "73364271-2f7c-4fd6-f724-5e4f010790c7"
      },
      "execution_count": 40,
      "outputs": [
        {
          "output_type": "stream",
          "name": "stdout",
          "text": [
            "/content/DeepfakeBench\n"
          ]
        }
      ]
    },
    {
      "cell_type": "code",
      "source": [
        "!python training/train.py \\\n",
        "--detector_path /content/DeepfakeBench/training/config/detector/xception.yaml  \\\n",
        "--train_dataset \"UADFV\" \\\n",
        "--test_dataset \"UADFV\""
      ],
      "metadata": {
        "colab": {
          "base_uri": "https://localhost:8080/"
        },
        "id": "BbT2I3_gxbgE",
        "outputId": "4814da19-9413-4be4-e3c5-0f2bb034bcf7"
      },
      "execution_count": 41,
      "outputs": [
        {
          "output_type": "stream",
          "name": "stdout",
          "text": [
            "['in_channels', 'out_channels', 'kernel_size', 'stride', 'padding', 'dilation', 'groups', 'bias', 'padding_mode', 'device', 'dtype']\n",
            "spatial_count=0 keep_stride_count=0\n",
            "2024-05-07 16:12:28,532 - INFO - Save log to /data/home/zhiyuanyan/DeepfakeBench/logs/testing_bench\n",
            "2024-05-07 16:12:28,532 - INFO - --------------- Configuration ---------------\n",
            "2024-05-07 16:12:28,532 - INFO - Parameters: \n",
            "log_dir: /data/home/zhiyuanyan/DeepfakeBench/logs/testing_bench\n",
            "pretrained: /data/home/zhiyuanyan/DeepfakeBench/training/pretrained/xception-b5690688.pth\n",
            "model_name: xception\n",
            "backbone_name: xception\n",
            "backbone_config: {'mode': 'original', 'num_classes': 2, 'inc': 3, 'dropout': False}\n",
            "all_dataset: ['FaceForensics++', 'FF-F2F', 'FF-DF', 'FF-FS', 'FF-NT', 'FaceShifter', 'DeepFakeDetection', 'Celeb-DF-v1', 'Celeb-DF-v2', 'DFDCP', 'DFDC', 'DeeperForensics-1.0', 'UADFV']\n",
            "train_dataset: ['UADFV']\n",
            "test_dataset: ['UADFV']\n",
            "compression: c23\n",
            "train_batchSize: 32\n",
            "test_batchSize: 32\n",
            "workers: 8\n",
            "frame_num: {'train': 32, 'test': 32}\n",
            "resolution: 256\n",
            "with_mask: False\n",
            "with_landmark: False\n",
            "use_data_augmentation: True\n",
            "data_aug: {'flip_prob': 0.5, 'rotate_prob': 0.0, 'rotate_limit': [-10, 10], 'blur_prob': 0.5, 'blur_limit': [3, 7], 'brightness_prob': 0.5, 'brightness_limit': [-0.1, 0.1], 'contrast_limit': [-0.1, 0.1], 'quality_lower': 40, 'quality_upper': 100}\n",
            "mean: [0.5, 0.5, 0.5]\n",
            "std: [0.5, 0.5, 0.5]\n",
            "optimizer: {'type': 'adam', 'adam': {'lr': 0.0002, 'beta1': 0.9, 'beta2': 0.999, 'eps': 1e-08, 'weight_decay': 0.0005, 'amsgrad': False}, 'sgd': {'lr': 0.0002, 'momentum': 0.9, 'weight_decay': 0.0005}}\n",
            "lr_scheduler: None\n",
            "nEpochs: 10\n",
            "start_epoch: 0\n",
            "save_epoch: 1\n",
            "rec_iter: 100\n",
            "logdir: ./logs\n",
            "manualSeed: 1024\n",
            "save_ckpt: True\n",
            "save_feat: True\n",
            "loss_func: cross_entropy\n",
            "losstype: None\n",
            "metric_scoring: auc\n",
            "cuda: True\n",
            "cudnn: True\n",
            "mode: train\n",
            "lmdb: False\n",
            "dry_run: False\n",
            "dataset_root_rgb: ./datasets\n",
            "lmdb_dir: I:\\transform_2_lmdb\n",
            "dataset_json_folder: /data/home/zhiyuanyan/DeepfakeBenchv2/preprocessing/dataset_json\n",
            "SWA: False\n",
            "label_dict: {'DFD_fake': 1, 'DFD_real': 0, 'FF-SH': 1, 'FF-F2F': 1, 'FF-DF': 1, 'FF-FS': 1, 'FF-NT': 1, 'FF-FH': 1, 'FF-real': 0, 'CelebDFv1_real': 0, 'CelebDFv1_fake': 1, 'CelebDFv2_real': 0, 'CelebDFv2_fake': 1, 'DFDCP_Real': 0, 'DFDCP_FakeA': 1, 'DFDCP_FakeB': 1, 'DFDC_Fake': 1, 'DFDC_Real': 0, 'DF_fake': 1, 'DF_real': 0, 'UADFV_Fake': 1, 'UADFV_Real': 0, 'roop_Real': 0, 'roop_Fake': 1}\n",
            "local_rank: 0\n",
            "ddp: False\n",
            "\n",
            "Expecting value: line 1 column 1 (char 0)\n",
            "Traceback (most recent call last):\n",
            "  File \"/content/DeepfakeBench/training/dataset/abstract_dataset.py\", line 160, in collect_img_and_label_for_one_dataset\n",
            "    dataset_info = json.load(f)\n",
            "                   ^^^^^^^^^^^^\n",
            "  File \"/usr/local/lib/python3.12/json/__init__.py\", line 293, in load\n",
            "    return loads(fp.read(),\n",
            "           ^^^^^^^^^^^^^^^^\n",
            "  File \"/usr/local/lib/python3.12/json/__init__.py\", line 346, in loads\n",
            "    return _default_decoder.decode(s)\n",
            "           ^^^^^^^^^^^^^^^^^^^^^^^^^^\n",
            "  File \"/usr/local/lib/python3.12/json/decoder.py\", line 337, in decode\n",
            "    obj, end = self.raw_decode(s, idx=_w(s, 0).end())\n",
            "               ^^^^^^^^^^^^^^^^^^^^^^^^^^^^^^^^^^^^^^\n",
            "  File \"/usr/local/lib/python3.12/json/decoder.py\", line 355, in raw_decode\n",
            "    raise JSONDecodeError(\"Expecting value\", s, err.value) from None\n",
            "json.decoder.JSONDecodeError: Expecting value: line 1 column 1 (char 0)\n",
            "\n",
            "During handling of the above exception, another exception occurred:\n",
            "\n",
            "Traceback (most recent call last):\n",
            "  File \"/content/DeepfakeBench/training/train.py\", line 319, in <module>\n",
            "    main()\n",
            "  File \"/content/DeepfakeBench/training/train.py\", line 274, in main\n",
            "    train_data_loader = prepare_training_data(config)\n",
            "                        ^^^^^^^^^^^^^^^^^^^^^^^^^^^^^\n",
            "  File \"/content/DeepfakeBench/training/train.py\", line 90, in prepare_training_data\n",
            "    train_set = DeepfakeAbstractBaseDataset(\n",
            "                ^^^^^^^^^^^^^^^^^^^^^^^^^^^^\n",
            "  File \"/content/DeepfakeBench/training/dataset/abstract_dataset.py\", line 78, in __init__\n",
            "    tmp_image, tmp_label, tmp_name = self.collect_img_and_label_for_one_dataset(one_data)\n",
            "                                     ^^^^^^^^^^^^^^^^^^^^^^^^^^^^^^^^^^^^^^^^^^^^^^^^^^^^\n",
            "  File \"/content/DeepfakeBench/training/dataset/abstract_dataset.py\", line 163, in collect_img_and_label_for_one_dataset\n",
            "    raise ValueError(f'dataset {dataset_name} not exist!')\n",
            "ValueError: dataset UADFV not exist!\n"
          ]
        }
      ]
    },
    {
      "cell_type": "code",
      "source": [
        "!python3 training/test.py \\\n",
        "--detector_path ./training/config/detector/xception.yaml \\\n",
        "--test_dataset \"UADFV\" \\\n",
        "--weights_path ./training/weights/xception_best.pth"
      ],
      "metadata": {
        "colab": {
          "base_uri": "https://localhost:8080/"
        },
        "id": "o6wS1fUTBRgk",
        "outputId": "7ce339b8-4999-4826-d42e-a3b95308be6b"
      },
      "execution_count": 48,
      "outputs": [
        {
          "output_type": "stream",
          "name": "stdout",
          "text": [
            "['in_channels', 'out_channels', 'kernel_size', 'stride', 'padding', 'dilation', 'groups', 'bias', 'padding_mode', 'device', 'dtype']\n",
            "spatial_count=0 keep_stride_count=0\n",
            "Traceback (most recent call last):\n",
            "  File \"/content/DeepfakeBench/training/test.py\", line 200, in <module>\n",
            "    main()\n",
            "  File \"/content/DeepfakeBench/training/test.py\", line 178, in main\n",
            "    test_data_loaders = prepare_testing_data(config)\n",
            "                        ^^^^^^^^^^^^^^^^^^^^^^^^^^^^\n",
            "  File \"/content/DeepfakeBench/training/test.py\", line 84, in prepare_testing_data\n",
            "    test_data_loaders[one_test_name] = get_test_data_loader(config, one_test_name)\n",
            "                                       ^^^^^^^^^^^^^^^^^^^^^^^^^^^^^^^^^^^^^^^^^^^\n",
            "  File \"/content/DeepfakeBench/training/test.py\", line 67, in get_test_data_loader\n",
            "    test_set = DeepfakeAbstractBaseDataset(\n",
            "               ^^^^^^^^^^^^^^^^^^^^^^^^^^^^\n",
            "  File \"/content/DeepfakeBench/training/dataset/abstract_dataset.py\", line 94, in __init__\n",
            "    image_list, label_list, name_list = self.collect_img_and_label_for_one_dataset(one_data)\n",
            "                                        ^^^^^^^^^^^^^^^^^^^^^^^^^^^^^^^^^^^^^^^^^^^^^^^^^^^^\n",
            "  File \"/content/DeepfakeBench/training/dataset/abstract_dataset.py\", line 156, in collect_img_and_label_for_one_dataset\n",
            "    if not os.path.exists(self.config['dataset_json_folder']):\n",
            "                          ~~~~~~~~~~~^^^^^^^^^^^^^^^^^^^^^^^\n",
            "KeyError: 'dataset_json_folder'\n"
          ]
        }
      ]
    },
    {
      "cell_type": "code",
      "source": [
        "!pip install dataset.library\n"
      ],
      "metadata": {
        "colab": {
          "base_uri": "https://localhost:8080/"
        },
        "id": "ZdStEUse-Wmh",
        "outputId": "7fbc86e7-eebd-4ef7-9376-5f09181b71dd"
      },
      "execution_count": 93,
      "outputs": [
        {
          "output_type": "stream",
          "name": "stdout",
          "text": [
            "\u001b[31mERROR: Could not find a version that satisfies the requirement dataset.library.DeepFakeMask (from versions: none)\u001b[0m\u001b[31m\n",
            "\u001b[0m\u001b[31mERROR: No matching distribution found for dataset.library.DeepFakeMask\u001b[0m\u001b[31m\n",
            "\u001b[0m"
          ]
        }
      ]
    },
    {
      "cell_type": "code",
      "source": [
        "!from dataset.library.DeepFakeMask import dfl_full,facehull,components,extended"
      ],
      "metadata": {
        "colab": {
          "base_uri": "https://localhost:8080/"
        },
        "id": "NgeahcTg-_OK",
        "outputId": "da1307f2-d170-4061-91c0-1fc186845545"
      },
      "execution_count": 69,
      "outputs": [
        {
          "output_type": "stream",
          "name": "stdout",
          "text": [
            "/bin/bash: line 1: from: command not found\n"
          ]
        }
      ]
    }
  ],
  "metadata": {
    "colab": {
      "provenance": [],
      "gpuType": "T4",
      "authorship_tag": "ABX9TyPnoFwBEflgglPHRi3PK4uS",
      "include_colab_link": true
    },
    "kernelspec": {
      "display_name": "Python 3",
      "name": "python3"
    },
    "language_info": {
      "name": "python"
    },
    "accelerator": "GPU"
  },
  "nbformat": 4,
  "nbformat_minor": 0
}